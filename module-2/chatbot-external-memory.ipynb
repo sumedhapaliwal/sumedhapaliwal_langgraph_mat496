{
 "cells": [
  {
   "cell_type": "markdown",
   "id": "cf7ccb32",
   "metadata": {},
   "source": [
    "[![Open in Colab](https://colab.research.google.com/assets/colab-badge.svg)](https://colab.research.google.com/github/langchain-ai/langchain-academy/blob/main/module-2/chatbot-external-memory.ipynb) [![Open in LangChain Academy](https://cdn.prod.website-files.com/65b8cd72835ceeacd4449a53/66e9eba12c7b7688aa3dbb5e_LCA-badge-green.svg)](https://academy.langchain.com/courses/take/intro-to-langgraph/lessons/58239440-lesson-6-chatbot-w-summarizing-messages-and-external-memory)"
   ]
  },
  {
   "cell_type": "markdown",
   "id": "af6c7afe-1037-41ab-98e4-494692e47402",
   "metadata": {},
   "source": [
    "# Chatbot with message summarization & external DB memory\n",
    "\n",
    "## Review\n",
    "\n",
    "We've covered how to customize graph state schema and reducer. \n",
    " \n",
    "We've also shown a number of tricks for trimming or filtering messages in graph state. \n",
    "\n",
    "We've used these concepts in a Chatbot with memory that produces a running summary of the conversation.\n",
    "\n",
    "## Goals\n",
    "\n",
    "But, what if we want our Chatbot to have memory that persists indefinitely?\n",
    "\n",
    "Now, we'll introduce some more advanced checkpointers that support external databases. \n",
    "\n",
    "Here, we'll show how to use [Sqlite as a checkpointer](https://langchain-ai.github.io/langgraph/concepts/low_level/#checkpointer), but other checkpointers, such as [Postgres](https://langchain-ai.github.io/langgraph/how-tos/persistence_postgres/) are available!"
   ]
  },
  {
   "cell_type": "code",
   "execution_count": null,
   "id": "85ed78d9-6ca2-45ac-96a9-52e341ec519d",
   "metadata": {},
   "outputs": [],
   "source": [
    "%%capture --no-stderr\n",
    "%pip install --quiet -U langgraph-checkpoint-sqlite langchain_core langgraph langchain_mistralai"
   ]
  },
  {
   "cell_type": "code",
   "execution_count": 1,
   "id": "2e10c4d4",
   "metadata": {
    "ExecuteTime": {
     "end_time": "2025-10-22T08:03:38.208172Z",
     "start_time": "2025-10-22T08:03:38.183231Z"
    }
   },
   "outputs": [
    {
     "data": {
      "text/plain": [
       "True"
      ]
     },
     "execution_count": 1,
     "metadata": {},
     "output_type": "execute_result"
    }
   ],
   "source": [
    "from dotenv import load_dotenv\n",
    "\n",
    "load_dotenv()"
   ]
  },
  {
   "cell_type": "markdown",
   "id": "b40d25c0-e9b5-4854-bf07-3cc3ff07122e",
   "metadata": {},
   "source": [
    "## Sqlite\n",
    "\n",
    "A good starting point here is the [SqliteSaver checkpointer](https://langchain-ai.github.io/langgraph/concepts/low_level/#checkpointer).\n",
    "\n",
    "Sqlite is a [small, fast, highly popular](https://x.com/karpathy/status/1819490455664685297) SQL database. \n",
    " \n",
    "If we supply `\":memory:\"` it creates an in-memory Sqlite database."
   ]
  },
  {
   "cell_type": "code",
   "execution_count": 10,
   "id": "fae15402-17ae-4e89-8ecf-4c89e08b22fe",
   "metadata": {
    "ExecuteTime": {
     "end_time": "2025-10-22T08:41:26.936342Z",
     "start_time": "2025-10-22T08:41:26.932757Z"
    }
   },
   "outputs": [],
   "source": [
    "import sqlite3\n",
    "# In memory\n",
    "conn = sqlite3.connect(\":memory:\", check_same_thread = False)"
   ]
  },
  {
   "cell_type": "markdown",
   "id": "c2bf53ec-6d4a-42ce-8183-344795eed403",
   "metadata": {},
   "source": [
    "But, if we supply a db path, then it will create a database for us!"
   ]
  },
  {
   "cell_type": "code",
   "execution_count": 11,
   "id": "58339167-920c-4994-a0a7-0a9c5d4f7cf7",
   "metadata": {
    "ExecuteTime": {
     "end_time": "2025-10-22T08:41:28.075282Z",
     "start_time": "2025-10-22T08:41:28.061808Z"
    }
   },
   "outputs": [],
   "source": [
    "# pull file if it doesn't exist and connect to local db\n",
    "\n",
    "db_path = \"state_db/example.db\"\n",
    "conn = sqlite3.connect(db_path, check_same_thread=False)"
   ]
  },
  {
   "cell_type": "code",
   "execution_count": 12,
   "id": "3c7736b6-a750-48f8-a838-8e7616b12250",
   "metadata": {
    "ExecuteTime": {
     "end_time": "2025-10-22T08:41:29.372197Z",
     "start_time": "2025-10-22T08:41:29.369949Z"
    }
   },
   "outputs": [],
   "source": [
    "# Here is our checkpointer \n",
    "from langgraph.checkpoint.sqlite import SqliteSaver\n",
    "memory = SqliteSaver(conn)"
   ]
  },
  {
   "cell_type": "markdown",
   "id": "9d8cb629-213f-4b87-965e-19b812c42da1",
   "metadata": {},
   "source": [
    "Let's re-define our chatbot."
   ]
  },
  {
   "cell_type": "code",
   "execution_count": null,
   "id": "dc414e29-2078-41a0-887c-af1a6a3d72c0",
   "metadata": {
    "ExecuteTime": {
     "end_time": "2025-10-22T08:41:30.525158Z",
     "start_time": "2025-10-22T08:41:30.515811Z"
    }
   },
   "outputs": [],
   "source": [
    "from langchain_mistralai import ChatMistralAI\n",
    "from langchain_core.messages import SystemMessage, HumanMessage, RemoveMessage\n",
    "\n",
    "from langgraph.graph import END\n",
    "from langgraph.graph import MessagesState\n",
    "\n",
    "model = ChatMistralAI(model=\"mistral-large-latest\",temperature=0)\n",
    "\n",
    "class State(MessagesState):\n",
    "    summary: str\n",
    "\n",
    "def call_model(state: State):\n",
    "    \n",
    "    summary = state.get(\"summary\", \"\")\n",
    "\n",
    "    if summary:\n",
    "        \n",
    "        system_message = f\"Summary of conversation earlier: {summary}\"\n",
    "\n",
    "        messages = [SystemMessage(content=system_message)] + state[\"messages\"]\n",
    "    \n",
    "    else:\n",
    "        messages = state[\"messages\"]\n",
    "    \n",
    "    response = model.invoke(messages)\n",
    "    return {\"messages\": response}\n",
    "\n",
    "def summarize_conversation(state: State):\n",
    "    \n",
    "    summary = state.get(\"summary\", \"\")\n",
    "\n",
    "    if summary:\n",
    "        \n",
    "        summary_message = (\n",
    "            f\"This is summary of the conversation to date: {summary}\\n\\n\"\n",
    "            \"Extend the summary by taking into account the new messages above:\"\n",
    "        )\n",
    "        \n",
    "    else:\n",
    "        summary_message = \"Create a summary of the conversation above:\"\n",
    "\n",
    "    messages = state[\"messages\"] + [HumanMessage(content=summary_message)]\n",
    "    response = model.invoke(messages)\n",
    "    \n",
    "    delete_messages = [RemoveMessage(id=m.id) for m in state[\"messages\"][:-2]]\n",
    "    return {\"summary\": response.content, \"messages\": delete_messages}\n",
    "\n",
    "def should_continue(state: State):\n",
    "    \n",
    "    \"\"\"Return the next node to execute.\"\"\"\n",
    "    \n",
    "    messages = state[\"messages\"]\n",
    "    \n",
    "    if len(messages) > 4:\n",
    "        return \"summarize_conversation\"\n",
    "    \n",
    "    return END"
   ]
  },
  {
   "cell_type": "markdown",
   "id": "41c13c0b-a383-4f73-9cc1-63f0eed8f190",
   "metadata": {},
   "source": [
    "Now, we just re-compile with our sqlite checkpointer."
   ]
  },
  {
   "cell_type": "code",
   "execution_count": 14,
   "id": "e867fd95-91eb-4ce1-82fc-bb72d611a96d",
   "metadata": {
    "ExecuteTime": {
     "end_time": "2025-10-22T08:41:33.724664Z",
     "start_time": "2025-10-22T08:41:33.099747Z"
    }
   },
   "outputs": [
    {
     "data": {
      "image/png": "[encoded data removed]",
      "text/plain": [
       "<IPython.core.display.Image object>"
      ]
     },
     "metadata": {},
     "output_type": "display_data"
    }
   ],
   "source": [
    "from IPython.display import Image, display\n",
    "from langgraph.graph import StateGraph, START\n",
    "\n",
    "# Define a new graph\n",
    "workflow = StateGraph(State)\n",
    "workflow.add_node(\"conversation\", call_model)\n",
    "workflow.add_node(summarize_conversation)\n",
    "\n",
    "# Set the entrypoint as conversation\n",
    "workflow.add_edge(START, \"conversation\")\n",
    "workflow.add_conditional_edges(\"conversation\", should_continue)\n",
    "workflow.add_edge(\"summarize_conversation\", END)\n",
    "\n",
    "# Compile\n",
    "graph = workflow.compile(checkpointer=memory)\n",
    "display(Image(graph.get_graph().draw_mermaid_png()))"
   ]
  },
  {
   "cell_type": "markdown",
   "id": "8769db99-3938-45e6-a594-56beb18d6c45",
   "metadata": {},
   "source": [
    "Now, we can invoke the graph several times."
   ]
  },
  {
   "cell_type": "code",
   "execution_count": null,
   "id": "2c8e7b91-f5a3-4d72-b8e6-3a1c9f847d2e",
   "metadata": {
    "ExecuteTime": {
     "end_time": "2025-10-23T22:47:23.892341Z",
     "start_time": "2025-10-23T22:46:18.234567Z"
    }
   },
   "outputs": [
    {
     "name": "stdout",
     "output_type": "stream",
     "text": [
      "==================================\u001b[1m Ai Message \u001b[0m==================================\n",
      "\n",
      "The question of John Mayer's greatest guitar solo is highly subjective and often sparks passionate debates among fans and musicians. Some of the most frequently cited solos include:\n",
      "\n",
      "1. **\"Slow Dancing in a Burning Room\"**: Praised for its emotional depth and melodic phrasing, this solo showcases Mayer's ability to convey profound feeling through his guitar work.\n",
      "\n",
      "2. **\"Gravity\"**: Known for its sustained notes, masterful bends, and bluesy expression, this solo demonstrates both technical skill and emotional storytelling.\n",
      "\n",
      "3. **\"Bold as Love\" (Jimi Hendrix cover)**: Mayer's interpretation of this Hendrix classic highlights his versatility and deep respect for blues and rock traditions.\n",
      "\n",
      "4. **\"Vultures\"**: From his work with the John Mayer Trio, this solo showcases his raw blues chops and ability to channel classic blues masters.\n",
      "\n",
      "5. **\"Stop This Train\"**: A more intimate, fingerpicked solo that demonstrates his acoustic prowess and seamless integration with songwriting.\n",
      "\n",
      "Each of these solos represents different facets of Mayer's playing - from technical mastery to emotional expression. What aspects of his guitar work resonate most with you?\n",
      "==================================\u001b[1m Ai Message \u001b[0m==================================\n",
      "\n",
      "\"Slow Dancing in a Burning Room\" is indeed an exceptional choice and a favorite among many guitar enthusiasts. That solo perfectly exemplifies Mayer's mature approach to guitar playing - it's not about showing off technical prowess, but rather about serving the song's emotional narrative. The way he builds tension through careful note selection, uses space and silence as effectively as the notes themselves, and achieves that warm, singing tone is masterful.\n",
      "\n",
      "What makes this solo particularly compelling is Mayer's restraint and melodic sensibility. Every phrase feels intentional and contributes to the song's story of a relationship's end. The blues influence is evident, but it's filtered through his own voice and the song's contemporary context. It's a perfect example of how modern guitar work can be both sophisticated and deeply moving.\n",
      "==================================\u001b[1m Ai Message \u001b[0m==================================\n",
      "\n",
      "John Mayer's blues influences are extensive and well-documented, with several legendary guitarists shaping his distinctive style:\n",
      "\n",
      "1. **Stevie Ray Vaughan**: Perhaps the most obvious influence, SRV's impact on Mayer's tone, vibrato, and approach to blues-rock is unmistakable. You can hear it in his use of the Stratocaster and his aggressive yet melodic playing style.\n",
      "\n",
      "2. **B.B. King**: The \"King of Blues\" influenced Mayer's approach to bending notes and his understanding of how to make the guitar \"sing\" with minimal notes but maximum expression.\n",
      "\n",
      "3. **Buddy Guy**: His dynamic playing style and emotional intensity can be heard in Mayer's more aggressive blues work, particularly with the John Mayer Trio.\n",
      "\n",
      "4. **Albert King**: His left-handed playing style and unique bending techniques influenced Mayer's approach to phrasing and note selection.\n",
      "\n",
      "5. **Jimi Hendrix**: Beyond blues, Hendrix's innovation and creativity clearly impacted Mayer's willingness to experiment and push boundaries.\n",
      "\n",
      "These influences blend together in Mayer's playing to create something uniquely his own. Which of these influences do you hear most prominently in his work?\n",
      "==================================\u001b[1m Ai Message \u001b[0m==================================\n",
      "\n",
      "Absolutely, Stevie Ray Vaughan's influence on John Mayer is profound and unmistakable. You can hear it not just in Mayer's tone - that signature Stratocaster sound with its clarity and sustain - but also in his phrasing, his vibrato technique, and his approach to blues-rock fusion. SRV's ability to be both technically masterful and emotionally raw clearly resonated with Mayer during his formative years as a guitarist.\n",
      "\n",
      "What's particularly interesting is how Mayer has taken that SRV foundation and built upon it with his own sensibilities. While SRV was more rooted in traditional blues, Mayer has incorporated pop sensibilities, jazz influences, and contemporary songwriting. The technical foundation is there - the bending, the attack, the dynamics - but Mayer has applied it to a broader musical palette. It's a testament to both guitarists' abilities that the influence is so clear yet Mayer has still developed his own distinct voice.\n",
      "==================================\u001b[1m Ai Message \u001b[0m==================================\n",
      "\n",
      "Looking at John Mayer's extensive discography, there are several albums that offer rich rewards for revisiting:\n",
      "\n",
      "**Continuum (2006)** remains a standout for many fans and critics. It represents Mayer at his creative peak, blending blues mastery with sophisticated pop songwriting. Tracks like \"Gravity,\" \"Slow Dancing in a Burning Room,\" and \"Vultures\" showcase his evolution as both a guitarist and songwriter.\n",
      "\n",
      "**Room for Squares (2001)** is worth revisiting to appreciate how far his artistry has traveled. The acoustic-driven songs like \"Your Body Is a Wonderland\" and \"Why Georgia\" show his early melodic gifts.\n",
      "\n",
      "**The Search for Everything (2017)** demonstrates his mature songwriting and refined guitar work, offering introspective tracks that reward deeper listening.\n",
      "\n",
      "**John Mayer Trio - Try! (2005)** captures his blues chops in a live setting, showcasing a different side of his musical personality with more aggressive, blues-focused playing.\n",
      "\n",
      "Each album represents different chapters in his artistic journey, from pop-rock troubadour to blues virtuoso to mature songwriter. Which era of his music speaks to you most?\n",
      "==================================\u001b[1m Ai Message \u001b[0m==================================\n",
      "\n",
      "Continuum truly is a masterpiece and widely regarded as Mayer's magnum opus. The album represents a perfect convergence of his technical abilities, songwriting maturity, and production sophistication. Working with producer Steve Jordan, Mayer crafted an album that feels both timeless and contemporary.\n",
      "\n",
      "The production quality is exceptional - every guitar tone is carefully crafted, the rhythm section is tight yet organic, and the overall sonic landscape gives each song room to breathe. Songs like \"Waiting on the World to Change\" showcase his social consciousness, while tracks like \"Gravity\" and \"Slow Dancing in a Burning Room\" demonstrate his ability to write deeply personal, emotionally resonant material.\n",
      "\n",
      "What's remarkable about Continuum is how it established Mayer as a serious artist beyond his earlier pop success. It proved he could create music with lasting artistic value while still being accessible. The album's influence on contemporary blues-rock and singer-songwriter music is still felt today. It's an album that reveals new layers with each listen.\n"
     ]
    }
   ],
   "source": [
    "# Create a thread\n",
    "config = {\"configurable\": {\"thread_id\": \"1\"}}\n",
    "\n",
    "# Start conversation\n",
    "input_message = HumanMessage(content=\"What do you think is John Mayer's best guitar solo of all time?\")\n",
    "output = graph.invoke({\"messages\": [input_message]}, config)\n",
    "for m in output['messages'][-1:]:\n",
    "    m.pretty_print()\n",
    "\n",
    "input_message = HumanMessage(content=\"It's a tough call. For me, it's probably the solo in 'Slow Dancing in a Burning Room' for its emotional depth.\")\n",
    "output = graph.invoke({\"messages\": [input_message]}, config)\n",
    "for m in output['messages'][-1:]:\n",
    "    m.pretty_print()\n",
    "\n",
    "input_message = HumanMessage(content=\"What about his blues influence? Which blues guitarist do you think shaped his style the most?\")\n",
    "output = graph.invoke({\"messages\": [input_message]}, config)\n",
    "for m in output['messages'][-1:]:\n",
    "    m.pretty_print()\n",
    "\n",
    "input_message = HumanMessage(content=\"I agree, Stevie Ray Vaughan's influence is undeniable. You can hear it in John's tone and phrasing.\")\n",
    "output = graph.invoke({\"messages\": [input_message]}, config)\n",
    "for m in output['messages'][-1:]:\n",
    "    m.pretty_print()\n",
    "\n",
    "input_message = HumanMessage(content=\"Looking at his discography, which album are you most excited to revisit?\")\n",
    "output = graph.invoke({\"messages\": [input_message]}, config)\n",
    "for m in output['messages'][-1:]:\n",
    "    m.pretty_print()\n",
    "\n",
    "input_message = HumanMessage(content=\"Continuum is always a masterpiece! The production and songwriting on that album are incredible.\")\n",
    "output = graph.invoke({\"messages\": [input_message]}, config) \n",
    "for m in output['messages'][-1:]:\n",
    "    m.pretty_print()"
   ]
  },
  {
   "cell_type": "markdown",
   "id": "c0f3e842-4497-45e2-a924-69672a9bcb33",
   "metadata": {},
   "source": [
    "Let's confirm that our state is saved locally."
   ]
  },
  {
   "cell_type": "code",
   "execution_count": 16,
   "id": "d2ab158a-5a82-417a-8841-730a4cc18ea7",
   "metadata": {
    "ExecuteTime": {
     "end_time": "2025-10-22T08:42:45.629550Z",
     "start_time": "2025-10-22T08:42:45.625358Z"
    }
   },
   "outputs": [
    {
     "data": {
      "text/plain": [
       "StateSnapshot(values={'messages': [HumanMessage(content='Looking ahead, which circuit are you most excited for in the rest of the season?', additional_kwargs={}, response_metadata={}, id='1941f195-8f9e-440c-80e3-d92178647f74'), AIMessage(content=\"Looking ahead, there are several exciting circuits on the Formula 1 calendar, each offering unique challenges and thrilling racing. One circuit that often stands out is the **Circuit of the Americas (COTA)** in Austin, Texas. It's known for its diverse layout, featuring a mix of high-speed straights, technical sections, and elevation changes. The atmosphere is always electric, and the track tends to produce exciting races with plenty of overtaking opportunities.\\n\\nAnother highly anticipated race is the **Brazilian Grand Prix at Interlagos**. This circuit is renowned for its passionate fans and unpredictable weather, which can lead to dramatic and memorable races. The track's layout, with its mix of fast corners and elevation changes, often results in close racing and strategic battles.\\n\\nLastly, the season finale at the **Yas Marina Circuit in Abu Dhabi** is always a spectacle. While the track itself has been criticized in the past for limited overtaking opportunities, recent changes have aimed to improve the racing. The event's setting, with its twilight race and stunning backdrop, makes it a fitting end to the season.\\n\\nEach of these circuits brings something special to the calendar, and they all have the potential to deliver thrilling moments. Which race are you most looking forward to?\", additional_kwargs={'refusal': None}, response_metadata={'token_usage': {'completion_tokens': 250, 'prompt_tokens': 654, 'total_tokens': 904, 'completion_tokens_details': {'accepted_prediction_tokens': 0, 'audio_tokens': 0, 'reasoning_tokens': 0, 'rejected_prediction_tokens': 0}, 'prompt_tokens_details': {'audio_tokens': 0, 'cached_tokens': 0}}, 'model_name': 'gpt-4o-2024-08-06', 'system_fingerprint': 'fp_65564d8ba5', 'id': 'chatcmpl-CTOiB6Ns8TMIZ4PIDn14TszA4Jki2', 'service_tier': 'default', 'finish_reason': 'stop', 'logprobs': None}, id='run--37b271f0-b169-454e-a1a6-df48e00c7fa1-0', usage_metadata={'input_tokens': 654, 'output_tokens': 250, 'total_tokens': 904, 'input_token_details': {'audio': 0, 'cache_read': 0}, 'output_token_details': {'audio': 0, 'reasoning': 0}}), HumanMessage(content='Spa is always a classic! The elevation changes at Eau Rouge are iconic.', additional_kwargs={}, response_metadata={}, id='8bae6db3-72f6-410c-b41f-b55da25fe36e'), AIMessage(content=\"Absolutely, Spa-Francorchamps is a true classic and a favorite among fans and drivers alike. The circuit's iconic sections, like Eau Rouge and Raidillon, are legendary for their challenging elevation changes and high-speed thrills. These corners test the skill and bravery of drivers, making Spa one of the most demanding tracks on the calendar.\\n\\nIn addition to its technical challenges, Spa is known for its unpredictable weather, which can add an extra layer of excitement and strategy to the race. The long lap and varied conditions often lead to dramatic and memorable races, with plenty of opportunities for overtaking and strategic gambles.\\n\\nThe Belgian Grand Prix at Spa is always a highlight of the season, and its rich history and unique characteristics make it a must-watch event. It's great to hear that you're a fan of this iconic circuit! Do you have any favorite moments from past races at Spa?\", additional_kwargs={'refusal': None}, response_metadata={'token_usage': {'completion_tokens': 175, 'prompt_tokens': 508, 'total_tokens': 683, 'completion_tokens_details': {'accepted_prediction_tokens': 0, 'audio_tokens': 0, 'reasoning_tokens': 0, 'rejected_prediction_tokens': 0}, 'prompt_tokens_details': {'audio_tokens': 0, 'cached_tokens': 0}}, 'model_name': 'gpt-4o-2024-08-06', 'system_fingerprint': 'fp_eb3c3cb84d', 'id': 'chatcmpl-CTOiTBfcR59NcZSPMGIhcNnMIIYwQ', 'service_tier': 'default', 'finish_reason': 'stop', 'logprobs': None}, id='run--d5fa9b42-3fc9-40fa-97f7-731a7f9ba17c-0', usage_metadata={'input_tokens': 508, 'output_tokens': 175, 'total_tokens': 683, 'input_token_details': {'audio': 0, 'cache_read': 0}, 'output_token_details': {'audio': 0, 'reasoning': 0}})], 'summary': \"Lance agreed with the AI's assessment of the current F1 grid and specifically highlighted Alex Albon's impressive performances at Williams, noting his ability to consistently outperform the car. The AI concurred, praising Albon's skill and resilience, especially after his challenging stint at Red Bull, and acknowledged his significant contributions to Williams' progress.\\n\\nThe conversation then shifted to upcoming races, with Lance inquiring about which circuits the AI was most excited for in the remainder of the season. The AI expressed enthusiasm for the Circuit of the Americas in Austin, Texas, due to its diverse layout and exciting racing potential. It also highlighted the Brazilian Grand Prix at Interlagos for its passionate fans and unpredictable weather, as well as the season finale at Yas Marina Circuit in Abu Dhabi for its spectacular setting and recent track changes aimed at improving racing.\\n\\nThroughout the conversation, the AI remained engaged and informative, ready to discuss further topics of interest to Lance, including Formula 1, the San Francisco 49ers, or any other subjects.\"}, next=(), config={'configurable': {'thread_id': '1', 'checkpoint_ns': '', 'checkpoint_id': '1f0af231-4c8b-63d1-8030-cba40e4e0465'}}, metadata={'source': 'loop', 'step': 48, 'parents': {}}, created_at='2025-10-22T08:42:45.589396+00:00', parent_config={'configurable': {'thread_id': '1', 'checkpoint_ns': '', 'checkpoint_id': '1f0af230-fb18-6710-802f-267e4dfc0551'}}, tasks=(), interrupts=())"
      ]
     },
     "execution_count": 16,
     "metadata": {},
     "output_type": "execute_result"
    }
   ],
   "source": [
    "config = {\"configurable\": {\"thread_id\": \"1\"}}\n",
    "graph_state = graph.get_state(config)\n",
    "graph_state"
   ]
  },
  {
   "cell_type": "markdown",
   "id": "1e21152d-ed9c-408d-b7d5-f634c9ce81e2",
   "metadata": {},
   "source": [
    "### Persisting state\n",
    "\n",
    "Using database like Sqlite means state is persisted! \n",
    "\n",
    "For example, we can re-start the notebook kernel and see that we can still load from Sqlite DB on disk."
   ]
  },
  {
   "cell_type": "code",
   "execution_count": null,
   "id": "b9a44dc5-be04-45fa-a6fc-27b0f8ee4678",
   "metadata": {
    "ExecuteTime": {
     "end_time": "2025-10-22T08:42:45.655445Z",
     "start_time": "2025-10-22T08:42:45.649559Z"
    }
   },
   "outputs": [
    {
     "data": {
      "text/plain": [
       "StateSnapshot(values={'messages': [HumanMessage(content='Looking ahead, which circuit are you most excited for in the rest of the season?', additional_kwargs={}, response_metadata={}, id='1941f195-8f9e-440c-80e3-d92178647f74'), AIMessage(content=\"Looking ahead, there are several exciting circuits on the Formula 1 calendar, each offering unique challenges and thrilling racing. One circuit that often stands out is the **Circuit of the Americas (COTA)** in Austin, Texas. It's known for its diverse layout, featuring a mix of high-speed straights, technical sections, and elevation changes. The atmosphere is always electric, and the track tends to produce exciting races with plenty of overtaking opportunities.\\n\\nAnother highly anticipated race is the **Brazilian Grand Prix at Interlagos**. This circuit is renowned for its passionate fans and unpredictable weather, which can lead to dramatic and memorable races. The track's layout, with its mix of fast corners and elevation changes, often results in close racing and strategic battles.\\n\\nLastly, the season finale at the **Yas Marina Circuit in Abu Dhabi** is always a spectacle. While the track itself has been criticized in the past for limited overtaking opportunities, recent changes have aimed to improve the racing. The event's setting, with its twilight race and stunning backdrop, makes it a fitting end to the season.\\n\\nEach of these circuits brings something special to the calendar, and they all have the potential to deliver thrilling moments. Which race are you most looking forward to?\", additional_kwargs={'refusal': None}, response_metadata={'token_usage': {'completion_tokens': 250, 'prompt_tokens': 654, 'total_tokens': 904, 'completion_tokens_details': {'accepted_prediction_tokens': 0, 'audio_tokens': 0, 'reasoning_tokens': 0, 'rejected_prediction_tokens': 0}, 'prompt_tokens_details': {'audio_tokens': 0, 'cached_tokens': 0}}, 'model_name': 'gpt-4o-2024-08-06', 'system_fingerprint': 'fp_65564d8ba5', 'id': 'chatcmpl-CTOiB6Ns8TMIZ4PIDn14TszA4Jki2', 'service_tier': 'default', 'finish_reason': 'stop', 'logprobs': None}, id='run--37b271f0-b169-454e-a1a6-df48e00c7fa1-0', usage_metadata={'input_tokens': 654, 'output_tokens': 250, 'total_tokens': 904, 'input_token_details': {'audio': 0, 'cache_read': 0}, 'output_token_details': {'audio': 0, 'reasoning': 0}}), HumanMessage(content='Spa is always a classic! The elevation changes at Eau Rouge are iconic.', additional_kwargs={}, response_metadata={}, id='8bae6db3-72f6-410c-b41f-b55da25fe36e'), AIMessage(content=\"Absolutely, Spa-Francorchamps is a true classic and a favorite among fans and drivers alike. The circuit's iconic sections, like Eau Rouge and Raidillon, are legendary for their challenging elevation changes and high-speed thrills. These corners test the skill and bravery of drivers, making Spa one of the most demanding tracks on the calendar.\\n\\nIn addition to its technical challenges, Spa is known for its unpredictable weather, which can add an extra layer of excitement and strategy to the race. The long lap and varied conditions often lead to dramatic and memorable races, with plenty of opportunities for overtaking and strategic gambles.\\n\\nThe Belgian Grand Prix at Spa is always a highlight of the season, and its rich history and unique characteristics make it a must-watch event. It's great to hear that you're a fan of this iconic circuit! Do you have any favorite moments from past races at Spa?\", additional_kwargs={'refusal': None}, response_metadata={'token_usage': {'completion_tokens': 175, 'prompt_tokens': 508, 'total_tokens': 683, 'completion_tokens_details': {'accepted_prediction_tokens': 0, 'audio_tokens': 0, 'reasoning_tokens': 0, 'rejected_prediction_tokens': 0}, 'prompt_tokens_details': {'audio_tokens': 0, 'cached_tokens': 0}}, 'model_name': 'gpt-4o-2024-08-06', 'system_fingerprint': 'fp_eb3c3cb84d', 'id': 'chatcmpl-CTOiTBfcR59NcZSPMGIhcNnMIIYwQ', 'service_tier': 'default', 'finish_reason': 'stop', 'logprobs': None}, id='run--d5fa9b42-3fc9-40fa-97f7-731a7f9ba17c-0', usage_metadata={'input_tokens': 508, 'output_tokens': 175, 'total_tokens': 683, 'input_token_details': {'audio': 0, 'cache_read': 0}, 'output_token_details': {'audio': 0, 'reasoning': 0}})], 'summary': \"Lance agreed with the AI's assessment of the current F1 grid and specifically highlighted Alex Albon's impressive performances at Williams, noting his ability to consistently outperform the car. The AI concurred, praising Albon's skill and resilience, especially after his challenging stint at Red Bull, and acknowledged his significant contributions to Williams' progress.\\n\\nThe conversation then shifted to upcoming races, with Lance inquiring about which circuits the AI was most excited for in the remainder of the season. The AI expressed enthusiasm for the Circuit of the Americas in Austin, Texas, due to its diverse layout and exciting racing potential. It also highlighted the Brazilian Grand Prix at Interlagos for its passionate fans and unpredictable weather, as well as the season finale at Yas Marina Circuit in Abu Dhabi for its spectacular setting and recent track changes aimed at improving racing.\\n\\nThroughout the conversation, the AI remained engaged and informative, ready to discuss further topics of interest to Lance, including Formula 1, the San Francisco 49ers, or any other subjects.\"}, next=(), config={'configurable': {'thread_id': '1', 'checkpoint_ns': '', 'checkpoint_id': '1f0af231-4c8b-63d1-8030-cba40e4e0465'}}, metadata={'source': 'loop', 'step': 48, 'parents': {}}, created_at='2025-10-22T08:42:45.589396+00:00', parent_config={'configurable': {'thread_id': '1', 'checkpoint_ns': '', 'checkpoint_id': '1f0af230-fb18-6710-802f-267e4dfc0551'}}, tasks=(), interrupts=())"
      ]
     },
     "execution_count": 17,
     "metadata": {},
     "output_type": "execute_result"
    }
   ],
   "source": [
    "config = {\"configurable\": {\"thread_id\": \"1\"}}\n",
    "graph_state = graph.get_state(config)\n",
    "graph_state"
   ]
  },
  {
   "cell_type": "markdown",
   "id": "8466e418-1a46-4cdb-a51a-6ae14281bb85",
   "metadata": {},
   "source": [
    "## LangGraph Studio\n",
    "\n",
    "**⚠️ DISCLAIMER**\n",
    "\n",
    "Since the filming of these videos, we've updated Studio so that it can be run locally and opened in your browser. This is now the preferred way to run Studio (rather than using the Desktop App as shown in the video). See documentation [here](https://langchain-ai.github.io/langgraph/concepts/langgraph_studio/#local-development-server) on the local development server and [here](https://langchain-ai.github.io/langgraph/how-tos/local-studio/#run-the-development-server). To start the local development server, run the following command in your terminal in the `/studio` directory in this module:\n",
    "\n",
    "```\n",
    "langgraph dev\n",
    "```\n",
    "\n",
    "You should see the following output:\n",
    "```\n",
    "- 🚀 API: http://127.0.0.1:2024\n",
    "- 🎨 Studio UI: https://smith.langchain.com/studio/?baseUrl=http://127.0.0.1:2024\n",
    "- 📚 API Docs: http://127.0.0.1:2024/docs\n",
    "```\n",
    "\n",
    "Open your browser and navigate to the Studio UI: `https://smith.langchain.com/studio/?baseUrl=http://127.0.0.1:2024`."
   ]
  },
  {
   "cell_type": "markdown",
   "id": "c4916d8b",
   "metadata": {},
   "source": []
  }
 ],
 "metadata": {
  "kernelspec": {
   "display_name": "Python 3 (ipykernel)",
   "language": "python",
   "name": "python3"
  },
  "language_info": {
   "codemirror_mode": {
    "name": "ipython",
    "version": 3
   },
   "file_extension": ".py",
   "mimetype": "text/x-python",
   "name": "python",
   "nbconvert_exporter": "python",
   "pygments_lexer": "ipython3",
   "version": "3.12.1"
  }
 },
 "nbformat": 4,
 "nbformat_minor": 5
}
