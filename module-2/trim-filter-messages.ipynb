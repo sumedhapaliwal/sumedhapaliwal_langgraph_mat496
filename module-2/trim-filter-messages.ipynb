{
 "cells": [
  {
   "cell_type": "markdown",
   "id": "fb0ebaf1",
   "metadata": {},
   "source": [
    "[![Open in Colab](https://colab.research.google.com/assets/colab-badge.svg)](https://colab.research.google.com/github/langchain-ai/langchain-academy/blob/main/module-2/trim-filter-messages.ipynb) [![Open in LangChain Academy](https://cdn.prod.website-files.com/65b8cd72835ceeacd4449a53/66e9eba12c7b7688aa3dbb5e_LCA-badge-green.svg)](https://academy.langchain.com/courses/take/intro-to-langgraph/lessons/58239435-lesson-4-trim-and-filter-messages)\n"
   ]
  },
  {
   "cell_type": "markdown",
   "id": "c52ea2f9-03ff-4647-b782-46867ebed04e",
   "metadata": {},
   "source": [
    "# Customer Feedback Chatbot: Filtering and Trimming Messages\n",
    "\n",
    "## Review\n",
    "\n",
    "Now, we have a deeper understanding of a few things: \n",
    "\n",
    "* How to customize the graph state schema\n",
    "* How to define custom state reducers\n",
    "* How to use multiple graph state schemas\n",
    "\n",
    "## Goals\n",
    "\n",
    "This chatbot serves as a **customer feedback assistant** that:\n",
    "- Keeps only the **last three messages** when interacting with users\n",
    "- Trims older messages to ensure faster responses and reduced token usage\n",
    "- Maintains conversation continuity while optimizing performance\n",
    "- Uses Mistral AI for efficient feedback collection\n",
    "\n",
    "Now, we can start using these concepts with models in LangGraph!\n",
    " \n",
    "In the next few sessions, we'll build towards a chatbot that has long-term memory.\n",
    "\n",
    "Because our chatbot will use messages, let's first talk a bit more about advanced ways to work with messages in graph state.\n"
   ]
  },
  {
   "cell_type": "code",
   "execution_count": null,
   "id": "768dc606-d5f2-468d-96ea-910b264e0f8a",
   "metadata": {},
   "outputs": [
    {
     "name": "stderr",
     "output_type": "stream",
     "text": [
      "WARNING: Ignoring invalid distribution ~harset-normalizer (c:\\Users\\sumed\\OneDrive\\Desktop\\sumedhapaliwal-langgraph-mat496\\venv\\Lib\\site-packages)\n",
      "WARNING: Ignoring invalid distribution ~harset-normalizer (c:\\Users\\sumed\\OneDrive\\Desktop\\sumedhapaliwal-langgraph-mat496\\venv\\Lib\\site-packages)\n",
      "WARNING: Ignoring invalid distribution ~harset-normalizer (c:\\Users\\sumed\\OneDrive\\Desktop\\sumedhapaliwal-langgraph-mat496\\venv\\Lib\\site-packages)\n",
      "\n",
      "[notice] A new release of pip is available: 24.2 -> 25.2\n",
      "[notice] To update, run: python.exe -m pip install --upgrade pip\n"
     ]
    }
   ],
   "source": [
    "%%capture --no-stderr\n",
    "%pip install --quiet -U langgraph langchain langchain_core langchain_mistralai tiktoken\n",
    "\n",
    "import os, getpass\n",
    "\n",
    "def _set_env(var: str):\n",
    "    if not os.environ.get(var):\n",
    "        os.environ[var] = getpass.getpass(f\"{var}: \")\n",
    "\n",
    "_set_env(\"MISTRAL_API_KEY\") \n",
    "_set_env(\"LANGSMITH_API_KEY\")\n",
    "\n",
    "os.environ[\"LANGSMITH_TRACING\"] = \"true\"\n",
    "os.environ[\"LANGSMITH_PROJECT\"] = \"customer-feedback-chatbot\"\n"
   ]
  },
  {
   "cell_type": "code",
   "execution_count": 2,
   "id": "eb510eed",
   "metadata": {},
   "outputs": [
    {
     "name": "stdout",
     "output_type": "stream",
     "text": [
      "==================================\u001b[1m Ai Message \u001b[0m==================================\n",
      "Name: Bot\n",
      "\n",
      "Thank you for contacting us! How can we assist with your feedback?\n",
      "================================\u001b[1m Human Message \u001b[0m=================================\n",
      "Name: Customer\n",
      "\n",
      "I wanted to share my experience with your service.\n"
     ]
    }
   ],
   "source": [
    "from pprint import pprint\n",
    "from langchain_core.messages import AIMessage, HumanMessage\n",
    "\n",
    "messages = [AIMessage(\"Thank you for contacting us! How can we assist with your feedback?\", name=\"Bot\")]\n",
    "messages.append(HumanMessage(\"I wanted to share my experience with your service.\", name=\"Customer\"))\n",
    "\n",
    "for m in messages:\n",
    "    m.pretty_print()\n"
   ]
  },
  {
   "cell_type": "code",
   "execution_count": 3,
   "id": "6ddc7a1b",
   "metadata": {},
   "outputs": [],
   "source": [
    "from langchain_mistralai import ChatMistralAI\n",
    "\n",
    "llm = ChatMistralAI(model=\"mistral-small-latest\", temperature=0.5)\n"
   ]
  },
  {
   "cell_type": "markdown",
   "id": "8b64d8d3-e4ac-4961-bdc0-688825eb5864",
   "metadata": {},
   "source": [
    "We'll use [LangSmith](https://docs.smith.langchain.com/) for [tracing](https://docs.smith.langchain.com/concepts/tracing).\n",
    "\n",
    "We'll log to a project, `customer-feedback-chatbot`. \n"
   ]
  },
  {
   "cell_type": "markdown",
   "id": "72f3fc90-58b6-4f7f-897e-dddf6ae532c7",
   "metadata": {},
   "source": [
    "## Messages as state\n",
    "\n",
    "First, let's define some messages for our customer feedback chatbot.\n"
   ]
  },
  {
   "cell_type": "markdown",
   "id": "b814adcb-6bf9-4b75-be11-e59f933fbd0c",
   "metadata": {},
   "source": [
    "Recall we can pass them to a chat model.\n"
   ]
  },
  {
   "cell_type": "markdown",
   "id": "fbd1dab8-0af8-4621-8264-ce65065f76ec",
   "metadata": {},
   "source": [
    "We can run our chat model in a simple graph with `MessagesState`.\n"
   ]
  },
  {
   "cell_type": "code",
   "execution_count": 4,
   "id": "bbd8c39c-633b-4176-9cc6-8318e42bb5dd",
   "metadata": {},
   "outputs": [
    {
     "data": {
      "image/png": "[encoded data removed]",
      "text/plain": [
       "<IPython.core.display.Image object>"
      ]
     },
     "metadata": {},
     "output_type": "display_data"
    },
    {
     "name": "stdout",
     "output_type": "stream",
     "text": [
      "==================================\u001b[1m Ai Message \u001b[0m==================================\n",
      "Name: Bot\n",
      "\n",
      "Thank you for contacting us! How can we assist with your feedback?\n",
      "================================\u001b[1m Human Message \u001b[0m=================================\n",
      "Name: Customer\n",
      "\n",
      "I wanted to share my experience with your service.\n",
      "==================================\u001b[1m Ai Message \u001b[0m==================================\n",
      "\n",
      "We're glad you reached out! We'd love to hear about your experience with our service. Please share the details, and we'll do our best to address any concerns or celebrate your positive feedback. Your input helps us improve and serve you better.\n",
      "\n",
      "You can share your experience here, and we'll respond as soon as possible.\n"
     ]
    }
   ],
   "source": [
    "from langgraph.graph import MessagesState, StateGraph, START, END\n",
    "from IPython.display import Image, display\n",
    "\n",
    "def chat_model_node(state: MessagesState):\n",
    "    return {\"messages\": [llm.invoke(state[\"messages\"])]}\n",
    "\n",
    "builder = StateGraph(MessagesState)\n",
    "builder.add_node(\"chat_model\", chat_model_node)\n",
    "builder.add_edge(START, \"chat_model\")\n",
    "builder.add_edge(\"chat_model\", END)\n",
    "graph = builder.compile()\n",
    "\n",
    "display(Image(graph.get_graph().draw_mermaid_png()))\n",
    "\n",
    "output = graph.invoke({'messages': messages})\n",
    "for m in output['messages']:\n",
    "    m.pretty_print()\n"
   ]
  },
  {
   "cell_type": "markdown",
   "id": "34c33e63-1ef4-412d-bb10-6a1b9e5b35a7",
   "metadata": {},
   "source": [
    "## Reducer\n",
    "\n",
    "A practical challenge when working with messages is managing long-running conversations. \n",
    "\n",
    "Long-running conversations result in high token usage and latency if we are not careful, because we pass a growing list of messages to the model.\n",
    "\n",
    "We have a few ways to address this.\n",
    "\n",
    "First, recall the trick we saw using `RemoveMessage` and the `add_messages` reducer.\n"
   ]
  },
  {
   "cell_type": "code",
   "execution_count": null,
   "id": "222c6bc5-bb0e-4a43-80f5-c8ec38d99f3a",
   "metadata": {},
   "outputs": [
    {
     "name": "stdout",
     "output_type": "stream",
     "text": [
      "==================================\u001b[1m Ai Message \u001b[0m==================================\n",
      "Name: Bot\n",
      "\n",
      "We'd love to hear it! Please share your thoughts.\n",
      "================================\u001b[1m Human Message \u001b[0m=================================\n",
      "Name: Customer\n",
      "\n",
      "The interface is great, but the loading time is slow.\n",
      "==================================\u001b[1m Ai Message \u001b[0m==================================\n",
      "\n",
      "Thank you for your feedback! We're glad you like the interface, and we appreciate you bringing up the loading time. We're constantly working to improve performance, and your input helps us prioritize our efforts.\n",
      "\n",
      "To help us better understand the issue, could you share a bit more detail?\n",
      "- Are you experiencing slow loading on specific pages or features?\n",
      "- What device and browser are you using?\n",
      "- Is the slowdown consistent, or does it happen intermittently?\n",
      "\n",
      "This information will help us diagnose and address the issue more effectively. Thanks again for your patience and support!\n"
     ]
    }
   ],
   "source": [
    "from langchain_core.messages import RemoveMessage\n",
    "\n",
    "def filter_messages(state: MessagesState):\n",
    "    delete_messages = [RemoveMessage(id=m.id) for m in state[\"messages\"][:-2]]  # keep last 2\n",
    "    return {\"messages\": delete_messages}\n",
    "\n",
    "def chat_model_node(state: MessagesState):\n",
    "    return {\"messages\": [llm.invoke(state[\"messages\"])]}\n",
    "\n",
    "builder = StateGraph(MessagesState)\n",
    "builder.add_node(\"filter\", filter_messages)\n",
    "builder.add_node(\"chat_model\", chat_model_node)\n",
    "builder.add_edge(START, \"filter\")\n",
    "builder.add_edge(\"filter\", \"chat_model\")\n",
    "builder.add_edge(\"chat_model\", END)\n",
    "graph = builder.compile()\n",
    "\n",
    "messages = [\n",
    "    AIMessage(\"Thank you for contacting us! How can we help?\", name=\"Bot\", id=\"1\"),\n",
    "    HumanMessage(\"I have feedback about your product.\", name=\"Customer\", id=\"2\"),\n",
    "    AIMessage(\"We'd love to hear it! Please share your thoughts.\", name=\"Bot\", id=\"3\"),\n",
    "    HumanMessage(\"The interface is great, but the loading time is slow.\", name=\"Customer\", id=\"4\")\n",
    "]\n",
    "\n",
    "output = graph.invoke({'messages': messages})\n",
    "for m in output['messages']:\n",
    "    m.pretty_print()\n"
   ]
  },
  {
   "cell_type": "markdown",
   "id": "f506457d-014b-4fee-a684-e5edfb4b8f0d",
   "metadata": {},
   "source": [
    "## Filtering messages\n",
    "\n",
    "If you don't need or want to modify the graph state, you can just filter the messages you pass to the chat model.\n",
    "\n",
    "For example, just pass in a filtered list: `llm.invoke(messages[-1:])` to the model.\n"
   ]
  },
  {
   "cell_type": "code",
   "execution_count": null,
   "id": "22d0b904-7cd6-486b-8948-105bee3d4683",
   "metadata": {},
   "outputs": [
    {
     "name": "stdout",
     "output_type": "stream",
     "text": [
      "==================================\u001b[1m Ai Message \u001b[0m==================================\n",
      "Name: Bot\n",
      "\n",
      "Thank you for contacting us! How can we help?\n",
      "================================\u001b[1m Human Message \u001b[0m=================================\n",
      "Name: Customer\n",
      "\n",
      "I have feedback about your product.\n",
      "==================================\u001b[1m Ai Message \u001b[0m==================================\n",
      "Name: Bot\n",
      "\n",
      "We'd love to hear it! Please share your thoughts.\n",
      "================================\u001b[1m Human Message \u001b[0m=================================\n",
      "Name: Customer\n",
      "\n",
      "The interface is great, but the loading time is slow.\n",
      "==================================\u001b[1m Ai Message \u001b[0m==================================\n",
      "\n",
      "Thank you for your feedback! We're glad you like the interface, and we appreciate you bringing up the loading time. We're constantly working to improve performance, and your input helps us prioritize our efforts.\n",
      "\n",
      "To help us better understand the issue, could you share a bit more detail?\n",
      "- Are you experiencing slow loading on specific pages or features?\n",
      "- What device and browser are you using?\n",
      "- Is the slowdown consistent, or does it happen intermittently?\n",
      "\n",
      "This information will help us diagnose and address the issue more effectively. Thanks again for your patience and support!\n",
      "================================\u001b[1m Human Message \u001b[0m=================================\n",
      "Name: Customer\n",
      "\n",
      "Can you improve that?\n",
      "==================================\u001b[1m Ai Message \u001b[0m==================================\n",
      "\n",
      "Of course! To improve your request, I’d need a bit more context. Could you share the specific text, idea, or content you'd like me to enhance? For example:\n",
      "\n",
      "- **Writing:** A paragraph, essay, or email you’d like refined.\n",
      "- **Idea:** A concept or plan you want to develop further.\n",
      "- **Code/Technical:** A script or algorithm you’d like optimized.\n",
      "\n",
      "Here’s a general example of how I might improve a sentence:\n",
      "\n",
      "**Original:** *\"The meeting was good, and we talked about the project.\"*\n",
      "**Improved:** *\"The meeting was productive, and we discussed key milestones for the project, aligning on next steps.\"*\n",
      "\n",
      "Let me know how I can help!\n"
     ]
    }
   ],
   "source": [
    "def chat_model_node(state: MessagesState):\n",
    "    return {\"messages\": [llm.invoke(state[\"messages\"][-1:])]}\n",
    "\n",
    "builder = StateGraph(MessagesState)\n",
    "builder.add_node(\"chat_model\", chat_model_node)\n",
    "builder.add_edge(START, \"chat_model\")\n",
    "builder.add_edge(\"chat_model\", END)\n",
    "graph = builder.compile()\n",
    "\n",
    "messages.append(output['messages'][-1])\n",
    "messages.append(HumanMessage(\"Can you improve that?\", name=\"Customer\"))\n",
    "\n",
    "output = graph.invoke({'messages': messages})\n",
    "for m in output['messages']:\n",
    "    m.pretty_print()\n"
   ]
  },
  {
   "cell_type": "markdown",
   "id": "6f58c6fc-532f-418d-b70a-cfcb3307daf5",
   "metadata": {},
   "source": [
    "Let's take our existing list of messages, append the above LLM response, and append a follow-up question from the customer.\n"
   ]
  },
  {
   "cell_type": "markdown",
   "id": "42e1d8d2-e297-4d78-b54c-d12b3c866745",
   "metadata": {},
   "source": [
    "The state has all of the messages.\n",
    "\n",
    "But, let's look at the LangSmith trace to see that the model invocation only uses the last message.\n",
    "\n",
    "Check your LangSmith project \"customer-feedback-chatbot\" to view the trace!\n"
   ]
  },
  {
   "cell_type": "markdown",
   "id": "fc40d930-3c1f-47fe-8d2a-ce174873353c",
   "metadata": {},
   "source": [
    "## Trim messages\n",
    "\n",
    "Another approach is to trim messages based upon a set number of tokens. \n",
    "\n",
    "This restricts the message history to a specified number of tokens.\n",
    "\n",
    "While filtering only returns a post-hoc subset of the messages between agents, trimming restricts the number of tokens that a chat model can use to respond.\n"
   ]
  },
  {
   "cell_type": "markdown",
   "id": "38b3db67-380e-46b5-9a6a-20100ba52008",
   "metadata": {},
   "source": [
    "## CUSTOMER FEEDBACK CHATBOT TWEAKS\n",
    "\n",
    "**Key Optimization**: This customer feedback chatbot keeps only the **last three messages** when interacting with users, ensuring:\n",
    "- Faster response times\n",
    "- Reduced token usage and costs\n",
    "- Maintained conversation continuity\n",
    "\n",
    "The trimming strategy balances context awareness with performance efficiency.\n"
   ]
  },
  {
   "cell_type": "code",
   "execution_count": null,
   "id": "8958bffb",
   "metadata": {},
   "outputs": [
    {
     "data": {
      "image/png": "[encoded data removed]",
      "text/plain": [
       "<IPython.core.display.Image object>"
      ]
     },
     "metadata": {},
     "output_type": "display_data"
    }
   ],
   "source": [
    "def chat_model_node(state: MessagesState):\n",
    "    \"\"\"\n",
    "    Process customer feedback by passing only the last 3 messages to the LLM.\n",
    "    This maintains conversation continuity while optimizing token usage.\n",
    "    \"\"\"\n",
    "    last_n = 3 \n",
    "    messages_to_send = state[\"messages\"][-last_n:]\n",
    "    \n",
    "    return {\"messages\": [llm.invoke(messages_to_send)]}\n",
    "\n",
    "builder = StateGraph(MessagesState)\n",
    "builder.add_node(\"chat_model\", chat_model_node)\n",
    "builder.add_edge(START, \"chat_model\")\n",
    "builder.add_edge(\"chat_model\", END)\n",
    "graph = builder.compile()\n",
    "\n",
    "display(Image(graph.get_graph().draw_mermaid_png()))\n"
   ]
  },
  {
   "cell_type": "markdown",
   "id": "45139a51",
   "metadata": {},
   "source": [
    "Now let's test the customer feedback chatbot with multiple interactions to show how it maintains context with only the last 3 messages.\n"
   ]
  },
  {
   "cell_type": "code",
   "execution_count": null,
   "id": "01bc3c43",
   "metadata": {},
   "outputs": [
    {
     "name": "stdout",
     "output_type": "stream",
     "text": [
      "\n",
      "=== Customer Feedback Chatbot Response ===\n",
      "\n",
      "==================================\u001b[1m Ai Message \u001b[0m==================================\n",
      "\n",
      "Thank you for your feedback! Simplifying the onboarding process is a great suggestion. Could you share more details about what you found challenging or time-consuming? For example:\n",
      "\n",
      "- Was the sign-up flow too long?\n",
      "- Were there unclear instructions or steps?\n",
      "- Did you encounter technical issues?\n",
      "\n",
      "Your insights will help us make improvements. We appreciate your help in making the experience smoother for everyone! 😊\n"
     ]
    }
   ],
   "source": [
    "feedback_messages = [\n",
    "    AIMessage(\"Welcome to Customer Feedback! We'd love to hear your thoughts.\", name=\"Bot\", id=\"1\"),\n",
    "    HumanMessage(\"Your product is great, but I have some suggestions.\", name=\"Customer\", id=\"2\"),\n",
    "    AIMessage(\"Please tell us your suggestions - we value your input!\", name=\"Bot\", id=\"3\"),\n",
    "    HumanMessage(\"First, the onboarding process could be simpler.\", name=\"Customer\", id=\"4\"),\n",
    "]\n",
    "\n",
    "output = graph.invoke({'messages': feedback_messages})\n",
    "print(\"\\n=== Customer Feedback Chatbot Response ===\\n\")\n",
    "for m in output['messages'][-1:]:\n",
    "    m.pretty_print()\n"
   ]
  },
  {
   "cell_type": "code",
   "execution_count": null,
   "id": "8f6ea6f4",
   "metadata": {},
   "outputs": [
    {
     "name": "stdout",
     "output_type": "stream",
     "text": [
      "\n",
      "=== Follow-up Feedback Response ===\n",
      "\n",
      "==================================\u001b[1m Ai Message \u001b[0m==================================\n",
      "\n",
      "Thank you for pointing that out! Clear and helpful documentation is crucial, and we appreciate your feedback. Could you share more details about which parts were unclear or confusing? For example:\n",
      "\n",
      "- Were there specific sections, terms, or steps that lacked clarity?\n",
      "- Did you struggle to find answers to common questions?\n",
      "- Were there any missing examples or explanations?\n",
      "\n",
      "Your feedback will help us improve the documentation so it’s more intuitive and user-friendly. If you’d like, you can also share suggestions on how we could make it better. Thanks again for your input! 😊\n"
     ]
    }
   ],
   "source": [
    "feedback_messages.append(output['messages'][-1])\n",
    "feedback_messages.append(HumanMessage(\"Also, the documentation is unclear in places.\", name=\"Customer\"))\n",
    "\n",
    "output = graph.invoke({'messages': feedback_messages})\n",
    "print(\"\\n=== Follow-up Feedback Response ===\\n\")\n",
    "for m in output['messages'][-1:]:\n",
    "    m.pretty_print()\n"
   ]
  },
  {
   "cell_type": "code",
   "execution_count": null,
   "id": "feb88caf",
   "metadata": {},
   "outputs": [
    {
     "name": "stdout",
     "output_type": "stream",
     "text": [
      "\n",
      "=== Final Response ===\n",
      "\n",
      "==================================\u001b[1m Ai Message \u001b[0m==================================\n",
      "\n",
      "Absolutely! I’ll make sure to address these points in the next update. Here’s how I’ll handle it:\n",
      "\n",
      "1. **Clarify Unclear Sections** – I’ll review the documentation to identify and improve any ambiguous or confusing parts, ensuring explanations are precise and easy to follow.\n",
      "2. **Add Missing Examples** – If certain concepts lacked practical examples, I’ll include them to make the content more actionable.\n",
      "3. **Improve Navigation & Searchability** – I’ll ensure key information is well-organized and easy to find, possibly adding a table of contents or better indexing.\n",
      "4. **Gather Feedback** – I’ll take note of your specific concerns and incorporate them into the revisions.\n",
      "\n",
      "Would you like to share more details about the exact sections or topics that need improvement? That way, I can prioritize them in the update. Thanks for helping us make the documentation better! 🚀\n"
     ]
    }
   ],
   "source": [
    "feedback_messages.append(output['messages'][-1])\n",
    "feedback_messages.append(HumanMessage(\"Can you address these points in the next update?\", name=\"Customer\"))\n",
    "\n",
    "output = graph.invoke({'messages': feedback_messages})\n",
    "print(\"\\n=== Final Response ===\\n\")\n",
    "for m in output['messages'][-1:]:\n",
    "    m.pretty_print()\n"
   ]
  }
 ],
 "metadata": {
  "kernelspec": {
   "display_name": "venv",
   "language": "python",
   "name": "python3"
  },
  "language_info": {
   "codemirror_mode": {
    "name": "ipython",
    "version": 3
   },
   "file_extension": ".py",
   "mimetype": "text/x-python",
   "name": "python",
   "nbconvert_exporter": "python",
   "pygments_lexer": "ipython3",
   "version": "3.12.7"
  }
 },
 "nbformat": 4,
 "nbformat_minor": 5
}
