{
 "cells": [
  {
   "cell_type": "markdown",
   "id": "e2996fea",
   "metadata": {},
   "source": [
    "[![Open in Colab](https://colab.research.google.com/assets/colab-badge.svg)](https://colab.research.google.com/github/langchain-ai/langchain-academy/blob/main/module-2/multiple-schemas.ipynb) [![Open in LangChain Academy](https://cdn.prod.website-files.com/65b8cd72835ceeacd4449a53/66e9eba12c7b7688aa3dbb5e_LCA-badge-green.svg)](https://academy.langchain.com/courses/take/intro-to-langgraph/lessons/58239434-lesson-3-multiple-schemas)\n"
   ]
  },
  {
   "cell_type": "markdown",
   "id": "693d9912-8d56-46a2-a445-3ee5651fe433",
   "metadata": {},
   "source": [
    "# Multiple Schemas\n",
    "\n",
    "## Review\n",
    "\n",
    "We just covered state schema and reducers.\n",
    "\n",
    "Typically, all graph nodes communicate with a single schema. \n",
    "\n",
    "Also, this single schema contains the graph's input and output keys / channels.\n",
    "\n",
    "## Goals\n",
    "\n",
    "But, there are cases where we may want a bit more control over this:\n",
    "\n",
    "* Internal nodes may pass information that is *not required* in the graph's input / output.\n",
    "\n",
    "* We may also want to use different input / output schemas for the graph. The output might, for example, only contain a single relevant output key.\n",
    "\n",
    "We'll discuss a few ways to customize graphs with multiple schemas.\n"
   ]
  },
  {
   "cell_type": "code",
   "execution_count": 2,
   "id": "4d727cc2-5a43-4eb5-9d69-82bbbcc35bd9",
   "metadata": {},
   "outputs": [
    {
     "name": "stderr",
     "output_type": "stream",
     "text": [
      "WARNING: Ignoring invalid distribution ~harset-normalizer (c:\\Users\\sumed\\OneDrive\\Desktop\\sumedhapaliwal-langgraph-mat496\\venv\\Lib\\site-packages)\n",
      "WARNING: Ignoring invalid distribution ~harset-normalizer (c:\\Users\\sumed\\OneDrive\\Desktop\\sumedhapaliwal-langgraph-mat496\\venv\\Lib\\site-packages)\n",
      "WARNING: Ignoring invalid distribution ~harset-normalizer (c:\\Users\\sumed\\OneDrive\\Desktop\\sumedhapaliwal-langgraph-mat496\\venv\\Lib\\site-packages)\n",
      "\n",
      "[notice] A new release of pip is available: 24.2 -> 25.2\n",
      "[notice] To update, run: python.exe -m pip install --upgrade pip\n"
     ]
    }
   ],
   "source": [
    "%%capture --no-stderr\n",
    "%pip install --quiet -U langgraph\n",
    "\n",
    "from typing_extensions import TypedDict\n",
    "from IPython.display import Image, display\n",
    "from langgraph.graph import StateGraph, START, END\n"
   ]
  },
  {
   "cell_type": "markdown",
   "id": "29b3d109-6bf2-4271-9775-556ee4bd900d",
   "metadata": {},
   "source": [
    "## Private State\n",
    "\n",
    "First, let's cover the case of passing [private state](https://langchain-ai.github.io/langgraph/how-tos/pass_private_state/) between nodes.\n",
    "\n",
    "This is useful for anything needed as part of the intermediate working logic of the graph, but not relevant for the overall graph input or output.\n",
    "\n",
    "We'll define an `OverallState` and a `PrivateState`.\n",
    "\n",
    "`node_2` uses `PrivateState` as input, but writes out to `OverallState`.\n"
   ]
  },
  {
   "cell_type": "code",
   "execution_count": null,
   "id": "038ca2e4-7d6d-49d5-b213-b38469cde434",
   "metadata": {},
   "outputs": [
    {
     "data": {
      "image/png": "[encoded data removed]",
      "text/plain": [
       "<IPython.core.display.Image object>"
      ]
     },
     "metadata": {},
     "output_type": "display_data"
    },
    {
     "name": "stdout",
     "output_type": "stream",
     "text": [
      "---Node 1---\n",
      "---Node 2---\n"
     ]
    },
    {
     "data": {
      "text/plain": [
       "{'foo': 3}"
      ]
     },
     "execution_count": 3,
     "metadata": {},
     "output_type": "execute_result"
    }
   ],
   "source": [
    "class OverallState(TypedDict):\n",
    "    foo: int\n",
    "\n",
    "class PrivateState(TypedDict):\n",
    "    baz: int\n",
    "\n",
    "def node_1(state: OverallState) -> PrivateState:\n",
    "    print(\"---Node 1---\")\n",
    "    return {\"baz\": state['foo'] + 1}\n",
    "\n",
    "def node_2(state: PrivateState) -> OverallState:\n",
    "    print(\"---Node 2---\")\n",
    "    return {\"foo\": state['baz'] + 1}\n",
    "\n",
    "builder = StateGraph(OverallState)\n",
    "builder.add_node(\"node_1\", node_1)\n",
    "builder.add_node(\"node_2\", node_2)\n",
    "builder.add_edge(START, \"node_1\")\n",
    "builder.add_edge(\"node_1\", \"node_2\")\n",
    "builder.add_edge(\"node_2\", END)\n",
    "graph = builder.compile()\n",
    "\n",
    "display(Image(graph.get_graph().draw_mermaid_png()))\n",
    "\n",
    "graph.invoke({\"foo\": 1})\n"
   ]
  },
  {
   "cell_type": "markdown",
   "id": "50a29f37-f653-4a56-ad0a-345d7f632ea0",
   "metadata": {},
   "source": [
    "`baz` is only included in `PrivateState`.\n",
    "\n",
    "`node_2` uses `PrivateState` as input, but writes out to `OverallState`.\n",
    "\n",
    "So, we can see that `baz` is excluded from the graph output because it is not in `OverallState`.\n"
   ]
  },
  {
   "cell_type": "markdown",
   "id": "75a8362f-009b-4ec2-abe5-8fb318e39966",
   "metadata": {},
   "source": [
    "## Input / Output Schema\n",
    "\n",
    "By default, `StateGraph` takes in a single schema and all nodes are expected to communicate with that schema. \n",
    "\n",
    "However, it is also possible to [define explicit input and output schemas for a graph](https://langchain-ai.github.io/langgraph/how-tos/input_output_schema/?h=input+outp).\n",
    "\n",
    "Often, in these cases, we define an \"internal\" schema that contains *all* keys relevant to graph operations.\n",
    "\n",
    "But, we use specific `input` and `output` schemas to constrain the input and output.\n",
    "\n",
    "First, let's just run the graph with a single schema.\n"
   ]
  },
  {
   "cell_type": "code",
   "execution_count": null,
   "id": "5323068a-907a-438c-8db5-46e5d452ad72",
   "metadata": {},
   "outputs": [
    {
     "data": {
      "image/png": "[encoded data removed]",
      "text/plain": [
       "<IPython.core.display.Image object>"
      ]
     },
     "metadata": {},
     "output_type": "display_data"
    },
    {
     "data": {
      "text/plain": [
       "{'question': 'hi', 'answer': 'bye Lance', 'notes': '... his name is Lance'}"
      ]
     },
     "execution_count": 4,
     "metadata": {},
     "output_type": "execute_result"
    }
   ],
   "source": [
    "class OverallState(TypedDict):\n",
    "    question: str\n",
    "    answer: str\n",
    "    notes: str\n",
    "\n",
    "# Nodes\n",
    "def thinking_node(state: OverallState):\n",
    "    return {\"answer\": \"bye\", \"notes\": \"... his name is Lance\"}\n",
    "\n",
    "def answer_node(state: OverallState):\n",
    "    return {\"answer\": \"bye Lance\"}\n",
    "\n",
    "graph = StateGraph(OverallState)\n",
    "graph.add_node(\"answer_node\", answer_node)\n",
    "graph.add_node(\"thinking_node\", thinking_node)\n",
    "graph.add_edge(START, \"thinking_node\")\n",
    "graph.add_edge(\"thinking_node\", \"answer_node\")\n",
    "graph.add_edge(\"answer_node\", END)\n",
    "graph = graph.compile()\n",
    "\n",
    "display(Image(graph.get_graph().draw_mermaid_png()))\n",
    "\n",
    "graph.invoke({\"question\":\"hi\"})\n"
   ]
  },
  {
   "cell_type": "markdown",
   "id": "853fc90c-bf82-4d51-b3a5-ceb0b0ae5233",
   "metadata": {},
   "source": [
    "Notice that the output of invoke contains all keys in `OverallState`.\n"
   ]
  },
  {
   "cell_type": "markdown",
   "id": "e5a899c3-e1b0-48eb-9a36-8c787e378ef0",
   "metadata": {},
   "source": [
    "Now, let's use a specific `input` and `output` schema with our graph.\n",
    "\n",
    "Here, `input` / `output` schemas perform *filtering* on what keys are permitted on the input and output of the graph. \n",
    "\n",
    "In addition, we can use a type hint `state: InputState` to specify the input schema of each of our nodes.\n",
    "\n",
    "This is important when the graph is using multiple schemas.\n",
    "\n",
    "We use type hints below to, for example, show that the output of `answer_node` will be filtered to `OutputState`. \n"
   ]
  },
  {
   "cell_type": "code",
   "execution_count": null,
   "id": "682b3d10-c78a-41c2-a5ff-842e1688c95f",
   "metadata": {},
   "outputs": [
    {
     "data": {
      "image/png": "[encoded data removed]",
      "text/plain": [
       "<IPython.core.display.Image object>"
      ]
     },
     "metadata": {},
     "output_type": "display_data"
    },
    {
     "data": {
      "text/plain": [
       "{'answer': 'bye Lance'}"
      ]
     },
     "execution_count": 5,
     "metadata": {},
     "output_type": "execute_result"
    }
   ],
   "source": [
    "class InputState(TypedDict):\n",
    "    question: str\n",
    "\n",
    "class OutputState(TypedDict):\n",
    "    answer: str\n",
    "\n",
    "class OverallState(TypedDict):\n",
    "    question: str\n",
    "    answer: str\n",
    "    notes: str\n",
    "\n",
    "def thinking_node(state: InputState):\n",
    "    return {\"answer\": \"bye\", \"notes\": \"... his is name is Lance\"}\n",
    "\n",
    "def answer_node(state: OverallState) -> OutputState:\n",
    "    return {\"answer\": \"bye Lance\"}\n",
    "\n",
    "graph = StateGraph(\n",
    "    OverallState, \n",
    "    input_schema=InputState, \n",
    "    output_schema=OutputState\n",
    ")\n",
    "graph.add_node(\"answer_node\", answer_node)\n",
    "graph.add_node(\"thinking_node\", thinking_node)\n",
    "graph.add_edge(START, \"thinking_node\")\n",
    "graph.add_edge(\"thinking_node\", \"answer_node\")\n",
    "graph.add_edge(\"answer_node\", END)\n",
    "graph = graph.compile()\n",
    "\n",
    "display(Image(graph.get_graph().draw_mermaid_png()))\n",
    "\n",
    "graph.invoke({\"question\":\"hi\"})\n"
   ]
  },
  {
   "cell_type": "markdown",
   "id": "8a3b6fe4",
   "metadata": {},
   "source": [
    "## CUSTOM TWEAKS: CURRENCY CONVERTER & EVENT PREFERENCE PROCESSOR\n",
    "\n",
    "### Tweak 1: Currency Converter with Private Schemas\n",
    "\n",
    "This graph demonstrates private state handling:\n",
    "- **Input**: Currency amount and target currency\n",
    "- **Private State**: Exchange rates and intermediate calculations\n",
    "- **Output**: Only the converted amount\n",
    "\n",
    "### Tweak 2: Event Preference Collector with Schema Filtering\n",
    "\n",
    "This graph collects user event preferences internally and outputs only a summary:\n",
    "- **Input**: User event preferences (multiple fields)\n",
    "- **Private State**: Preference analytics and processing data\n",
    "- **Output**: Only a summary message to user\n"
   ]
  },
  {
   "cell_type": "code",
   "execution_count": null,
   "id": "f6533982",
   "metadata": {},
   "outputs": [
    {
     "data": {
      "image/png": "[encoded data removed]",
      "text/plain": [
       "<IPython.core.display.Image object>"
      ]
     },
     "metadata": {},
     "output_type": "display_data"
    },
    {
     "name": "stdout",
     "output_type": "stream",
     "text": [
      "---Node 1---\n",
      "---Node 2---\n"
     ]
    },
    {
     "data": {
      "text/plain": [
       "{'foo': 2}"
      ]
     },
     "execution_count": 6,
     "metadata": {},
     "output_type": "execute_result"
    }
   ],
   "source": [
    "from typing import Annotated\n",
    "from operator import add\n",
    "\n",
    "def reduce_list(left: list | None, right: list | None) -> list:\n",
    "    return (left or []) + (right or [])\n",
    "\n",
    "class OverallState(TypedDict):\n",
    "    foo: int\n",
    "\n",
    "class PrivateState(TypedDict):\n",
    "    baz: Annotated[list[int], reduce_list]\n",
    "\n",
    "def node_1(state: OverallState) -> PrivateState:\n",
    "    print(\"---Node 1---\")\n",
    "    return {\"baz\": [state['foo'] + 1]}\n",
    "\n",
    "def node_2(state: PrivateState) -> OverallState:\n",
    "    print(\"---Node 2---\")\n",
    "    return {\"foo\": sum(state['baz'])}\n",
    "\n",
    "builder = StateGraph(OverallState)\n",
    "builder.add_node(\"node_1\", node_1)\n",
    "builder.add_node(\"node_2\", node_2)\n",
    "builder.add_edge(START, \"node_1\")\n",
    "builder.add_edge(\"node_1\", \"node_2\")\n",
    "builder.add_edge(\"node_2\", END)\n",
    "graph = builder.compile()\n",
    "display(Image(graph.get_graph().draw_mermaid_png()))\n",
    "\n",
    "graph.invoke({\"foo\": 1})\n"
   ]
  },
  {
   "cell_type": "markdown",
   "id": "dad97b85",
   "metadata": {},
   "source": [
    "## TWEAK 1: Currency Converter with Private Schemas\n",
    "\n",
    "A currency converter that uses private state for intermediate exchange rate calculations.\n"
   ]
  },
  {
   "cell_type": "code",
   "execution_count": null,
   "id": "c9a8ac16",
   "metadata": {},
   "outputs": [
    {
     "data": {
      "image/png": "[encoded data removed]",
      "text/plain": [
       "<IPython.core.display.Image object>"
      ]
     },
     "metadata": {},
     "output_type": "display_data"
    },
    {
     "name": "stdout",
     "output_type": "stream",
     "text": [
      "---Fetching Exchange Rates (Private State)---\n",
      "---Processing Conversion---\n",
      "\n",
      "=== Currency Converter Result ===\n",
      "Converted Amount: 91.98 EUR\n"
     ]
    }
   ],
   "source": [
    "class CurrencyInputState(TypedDict):\n",
    "    amount: float\n",
    "    target_currency: str\n",
    "\n",
    "class CurrencyPrivateState(TypedDict):\n",
    "    exchange_rates: dict\n",
    "    calculated_rate: float\n",
    "    conversion_fees: float\n",
    "\n",
    "class CurrencyOverallState(TypedDict):\n",
    "    amount: float\n",
    "    target_currency: str\n",
    "    exchange_rates: dict\n",
    "    calculated_rate: float\n",
    "    conversion_fees: float\n",
    "    converted_amount: float\n",
    "\n",
    "class CurrencyOutputState(TypedDict):\n",
    "    converted_amount: float\n",
    "    target_currency: str\n",
    "\n",
    "def fetch_exchange_rates(state: CurrencyInputState) -> CurrencyPrivateState:\n",
    "    print(\"---Fetching Exchange Rates (Private State)---\")\n",
    "    exchange_rates = {\"USD\": 1.0, \"EUR\": 0.92, \"GBP\": 0.79, \"JPY\": 149.50}\n",
    "    calculated_rate = exchange_rates.get(state['target_currency'], 1.0)\n",
    "    return {\n",
    "        \"exchange_rates\": exchange_rates,\n",
    "        \"calculated_rate\": calculated_rate,\n",
    "        \"conversion_fees\": calculated_rate * 0.02  # 2% fee\n",
    "    }\n",
    "\n",
    "def process_conversion(state: CurrencyOverallState):\n",
    "    print(\"---Processing Conversion---\")\n",
    "    converted = state['amount'] * state['calculated_rate']\n",
    "    final_amount = converted - state['conversion_fees']\n",
    "    return {\"converted_amount\": final_amount}\n",
    "\n",
    "currency_graph = StateGraph(\n",
    "    CurrencyOverallState,\n",
    "    input_schema=CurrencyInputState,\n",
    "    output_schema=CurrencyOutputState\n",
    ")\n",
    "currency_graph.add_node(\"fetch_rates\", fetch_exchange_rates)\n",
    "currency_graph.add_node(\"process\", process_conversion)\n",
    "currency_graph.add_edge(START, \"fetch_rates\")\n",
    "currency_graph.add_edge(\"fetch_rates\", \"process\")\n",
    "currency_graph.add_edge(\"process\", END)\n",
    "currency_graph = currency_graph.compile()\n",
    "\n",
    "display(Image(currency_graph.get_graph().draw_mermaid_png()))\n",
    "\n",
    "result = currency_graph.invoke({\"amount\": 100.0, \"target_currency\": \"EUR\"})\n",
    "print(\"\\n=== Currency Converter Result ===\")\n",
    "print(f\"Converted Amount: {result['converted_amount']:.2f} {result['target_currency']}\")\n"
   ]
  },
  {
   "cell_type": "markdown",
   "id": "805f6fd7",
   "metadata": {},
   "source": [
    "## TWEAK 2: Event Preference Collector with Schema Filtering\n",
    "\n",
    "A preference collection system that processes user event preferences internally and outputs only a summary message.\n"
   ]
  },
  {
   "cell_type": "code",
   "execution_count": null,
   "id": "d1c1e3eb",
   "metadata": {},
   "outputs": [
    {
     "data": {
      "image/png": "[encoded data removed]",
      "text/plain": [
       "<IPython.core.display.Image object>"
      ]
     },
     "metadata": {},
     "output_type": "display_data"
    },
    {
     "name": "stdout",
     "output_type": "stream",
     "text": [
      "---Analyzing User Preferences (Private State)---\n",
      "---Generating Summary Message---\n",
      "\n",
      "=== Event Preference Collector Result ===\n",
      "Hi Alice! We found 3 matching event topics: AI, Machine Learning, Data Science. Your intermediate level and 3 available slots match well. Check your personalized event recommendations!\n"
     ]
    }
   ],
   "source": [
    "class EventPreferenceInputState(TypedDict):\n",
    "    user_name: str\n",
    "    interested_topics: list[str]\n",
    "    experience_level: str\n",
    "    availability: list[str]\n",
    "\n",
    "class EventPreferencePrivateState(TypedDict):\n",
    "    topic_scores: dict\n",
    "    experience_multiplier: float\n",
    "    availability_slots: int\n",
    "    recommendation_data: str\n",
    "\n",
    "class EventPreferenceOverallState(TypedDict):\n",
    "    user_name: str\n",
    "    interested_topics: list[str]\n",
    "    experience_level: str\n",
    "    availability: list[str]\n",
    "    topic_scores: dict\n",
    "    experience_multiplier: float\n",
    "    availability_slots: int\n",
    "    recommendation_data: str\n",
    "    summary_message: str\n",
    "\n",
    "class EventPreferenceOutputState(TypedDict):\n",
    "    summary_message: str\n",
    "\n",
    "def analyze_preferences(state: EventPreferenceInputState) -> EventPreferencePrivateState:\n",
    "    print(\"---Analyzing User Preferences (Private State)---\")\n",
    "    \n",
    "    topic_scores = {topic: len(state['interested_topics']) for topic in state['interested_topics']}\n",
    "    \n",
    "    experience_map = {\"beginner\": 1.0, \"intermediate\": 1.5, \"expert\": 2.0}\n",
    "    experience_multiplier = experience_map.get(state['experience_level'], 1.0)\n",
    "    \n",
    "    availability_slots = len(state['availability'])\n",
    "    \n",
    "    recommendation_data = f\"User prefers {len(state['interested_topics'])} topics, available {availability_slots} slots\"\n",
    "    \n",
    "    return {\n",
    "        \"topic_scores\": topic_scores,\n",
    "        \"experience_multiplier\": experience_multiplier,\n",
    "        \"availability_slots\": availability_slots,\n",
    "        \"recommendation_data\": recommendation_data\n",
    "    }\n",
    "\n",
    "def generate_summary(state: EventPreferenceOverallState) -> EventPreferenceOutputState:\n",
    "    print(\"---Generating Summary Message---\")\n",
    "    \n",
    "    summary = (\n",
    "        f\"Hi {state['user_name']}! \"\n",
    "        f\"We found {len(state['interested_topics'])} matching event topics: {', '.join(state['interested_topics'])}. \"\n",
    "        f\"Your {state['experience_level']} level and {state['availability_slots']} available slots match well. \"\n",
    "        f\"Check your personalized event recommendations!\"\n",
    "    )\n",
    "    \n",
    "    return {\"summary_message\": summary}\n",
    "\n",
    "event_graph = StateGraph(\n",
    "    EventPreferenceOverallState,\n",
    "    input_schema=EventPreferenceInputState,\n",
    "    output_schema=EventPreferenceOutputState\n",
    ")\n",
    "event_graph.add_node(\"analyze\", analyze_preferences)\n",
    "event_graph.add_node(\"summarize\", generate_summary)\n",
    "event_graph.add_edge(START, \"analyze\")\n",
    "event_graph.add_edge(\"analyze\", \"summarize\")\n",
    "event_graph.add_edge(\"summarize\", END)\n",
    "event_graph = event_graph.compile()\n",
    "\n",
    "display(Image(event_graph.get_graph().draw_mermaid_png()))\n",
    "\n",
    "result = event_graph.invoke({\n",
    "    \"user_name\": \"Alice\",\n",
    "    \"interested_topics\": [\"AI\", \"Machine Learning\", \"Data Science\"],\n",
    "    \"experience_level\": \"intermediate\",\n",
    "    \"availability\": [\"Monday\", \"Wednesday\", \"Friday\"]\n",
    "})\n",
    "\n",
    "print(\"\\n=== Event Preference Collector Result ===\")\n",
    "print(result['summary_message'])\n"
   ]
  }
 ],
 "metadata": {
  "kernelspec": {
   "display_name": "venv",
   "language": "python",
   "name": "python3"
  },
  "language_info": {
   "codemirror_mode": {
    "name": "ipython",
    "version": 3
   },
   "file_extension": ".py",
   "mimetype": "text/x-python",
   "name": "python",
   "nbconvert_exporter": "python",
   "pygments_lexer": "ipython3",
   "version": "3.12.7"
  }
 },
 "nbformat": 4,
 "nbformat_minor": 5
}
