{
 "cells": [
  {
   "cell_type": "markdown",
   "id": "9902a6a3",
   "metadata": {},
   "source": [
    "[![Open in Colab](https://colab.research.google.com/assets/colab-badge.svg)](https://colab.research.google.com/github/langchain-ai/langchain-academy/blob/main/module-3/time-travel.ipynb) [![Open in LangChain Academy](https://cdn.prod.website-files.com/65b8cd72835ceeacd4449a53/66e9eba12c7b7688aa3dbb5e_LCA-badge-green.svg)](https://academy.langchain.com/courses/take/intro-to-langgraph/lessons/58239536-lesson-5-time-travel)"
   ]
  },
  {
   "cell_type": "markdown",
   "id": "ba98beac-d461-4d7d-878a-11beca03ea1c",
   "metadata": {},
   "source": [
    "# Time travel\n",
    "\n",
    "## Review\n",
    "\n",
    "We discussed motivations for human-in-the-loop:\n",
    "\n",
    "(1) `Approval` - We can interrupt our agent, surface state to a user, and allow the user to accept an action\n",
    "\n",
    "(2) `Debugging` - We can rewind the graph to reproduce or avoid issues\n",
    "\n",
    "(3) `Editing` - You can modify the state \n",
    "\n",
    "We showed how breakpoints can stop the graph at specific nodes or allow the graph to dynamically interrupt itself.\n",
    "\n",
    "Then we showed how to proceed with human approval or directly edit the graph state with human feedback.\n",
    "\n",
    "## Goals\n",
    "\n",
    "Now, let's show how LangGraph [supports debugging](https://langchain-ai.github.io/langgraph/how-tos/human_in_the_loop/time-travel/) by viewing, re-playing, and even forking from past states. \n",
    "\n",
    "We call this `time travel`."
   ]
  },
  {
   "cell_type": "code",
   "execution_count": 9,
   "id": "bd48aeb6-8478-4cb4-aef1-d524b80824d3",
   "metadata": {},
   "outputs": [],
   "source": [
    "%%capture --no-stderr\n",
    "%pip install --quiet -U langgraph langchain_mistralai langgraph_sdk langgraph-prebuilt"
   ]
  },
  {
   "cell_type": "code",
   "execution_count": 10,
   "id": "7d32093f",
   "metadata": {},
   "outputs": [],
   "source": [
    "import os, getpass\n",
    "\n",
    "def _set_env(var: str):\n",
    "    if not os.environ.get(var):\n",
    "        os.environ[var] = getpass.getpass(f\"{var}: \")\n",
    "\n",
    "_set_env(\"MISTRAL_API_KEY\")"
   ]
  },
  {
   "cell_type": "markdown",
   "id": "0497d316-832a-4668-b133-fd317ee81220",
   "metadata": {},
   "source": [
    "Let's build our agent."
   ]
  },
  {
   "cell_type": "code",
   "execution_count": 11,
   "id": "d64ab3a1-b39c-4176-88c7-791a0b80c725",
   "metadata": {},
   "outputs": [],
   "source": [
    "from langchain_mistralai import ChatMistralAI\n",
    "\n",
    "def calculate_total_awards(grammy_wins: int, other_awards: int) -> int:\n",
    "    \"\"\"Calculate total music awards for John Mayer.\n",
    "\n",
    "    Args:\n",
    "        grammy_wins: number of Grammy awards won\n",
    "        other_awards: number of other major music awaBuilt an album validation system for John Mayer's discography that dynamically interrupts when album names don't match his typical naming style. Created a three-step workflow (validate_album_format → check_album_length → process_album_data) where NodeInterrupt triggers if an album name exceeds 20 characters (since his actual albums like \"Continuum\", \"Room for Squares\", and \"Battle Studies\" are all concise). Tested with \"The Complete John Mayer Guitar Collection\" (42 chars) which raised the interrupt with a custom message explaining the issue, then updated state to \"Continuum\" to pass validation. This demonstrated conditional interrupts based on music industry naming conventions rather than fixed breakpoints.rds\n",
    "    \"\"\"\n",
    "    return grammy_wins + other_awards\n",
    "\n",
    "# This will be a tool\n",
    "def count_chart_positions(top_10_hits: int, top_40_hits: int) -> int:\n",
    "    \"\"\"Count total charting songs for John Mayer.\n",
    "\n",
    "    Args:\n",
    "        top_10_hits: number of top 10 hits\n",
    "        top_40_hits: number of top 40 hits\n",
    "    \"\"\"\n",
    "    return top_10_hits + top_40_hits\n",
    "\n",
    "def estimate_streaming_revenue(monthly_streams: int, rate_per_stream: float) -> float:\n",
    "    \"\"\"Estimate monthly streaming revenue for John Mayer.\n",
    "\n",
    "    Args:\n",
    "        monthly_streams: average monthly streams in millions\n",
    "        rate_per_stream: revenue rate per stream in dollars\n",
    "    \"\"\"\n",
    "    return monthly_streams * rate_per_stream\n",
    "\n",
    "tools = [count_chart_positions, calculate_total_awards, estimate_streaming_revenue]\n",
    "llm = ChatMistralAI(model=\"mistral-large-latest\")\n",
    "llm_with_tools = llm.bind_tools(tools)"
   ]
  },
  {
   "cell_type": "code",
   "execution_count": 12,
   "id": "1d8622a9-57cd-44dc-8696-46c5ab32d0b9",
   "metadata": {},
   "outputs": [
    {
     "data": {
      "image/png": "[encoded data removed]",
      "text/plain": [
       "<IPython.core.display.Image object>"
      ]
     },
     "metadata": {},
     "output_type": "display_data"
    }
   ],
   "source": [
    "from IPython.display import Image, display\n",
    "\n",
    "from langgraph.checkpoint.memory import MemorySaver\n",
    "from langgraph.graph import MessagesState\n",
    "from langgraph.graph import START, END, StateGraph\n",
    "from langgraph.prebuilt import tools_condition, ToolNode\n",
    "\n",
    "from langchain_core.messages import AIMessage, HumanMessage, SystemMessage\n",
    "\n",
    "# System message\n",
    "sys_msg = SystemMessage(content=\"You are a helpful music industry analyst specializing in John Mayer's career statistics, including awards, chart performance, and revenue calculations.\")\n",
    "\n",
    "# Node\n",
    "def assistant(state: MessagesState):\n",
    "   return {\"messages\": [llm_with_tools.invoke([sys_msg] + state[\"messages\"])]}\n",
    "\n",
    "# Graph\n",
    "builder = StateGraph(MessagesState)\n",
    "\n",
    "# Define nodes: these do the work\n",
    "builder.add_node(\"assistant\", assistant)\n",
    "builder.add_node(\"tools\", ToolNode(tools))\n",
    "\n",
    "# Define edges: these determine the control flow\n",
    "builder.add_edge(START, \"assistant\")\n",
    "builder.add_conditional_edges(\n",
    "    \"assistant\",\n",
    "    # If the latest message (result) from assistant is a tool call -> tools_condition routes to tools\n",
    "    # If the latest message (result) from assistant is a not a tool call -> tools_condition routes to END\n",
    "    tools_condition,\n",
    ")\n",
    "builder.add_edge(\"tools\", \"assistant\")\n",
    "\n",
    "memory = MemorySaver()\n",
    "graph = builder.compile(checkpointer=MemorySaver())\n",
    "\n",
    "# Show\n",
    "display(Image(graph.get_graph(xray=True).draw_mermaid_png()))"
   ]
  },
  {
   "cell_type": "markdown",
   "id": "fab18a04-1329-47ac-a25b-4e01bf756e2a",
   "metadata": {},
   "source": [
    "Let's run it, as before."
   ]
  },
  {
   "cell_type": "code",
   "execution_count": 13,
   "id": "05b2ab62-82bc-4356-8d5b-2d4f49069fdd",
   "metadata": {},
   "outputs": [
    {
     "name": "stdout",
     "output_type": "stream",
     "text": [
      "================================\u001b[1m Human Message \u001b[0m=================================\n",
      "\n",
      "Calculate John Mayer's total awards if he has 7 Grammy wins and 12 other major music awards\n",
      "==================================\u001b[1m Ai Message \u001b[0m==================================\n",
      "Tool Calls:\n",
      "  calculate_total_awards (2OssVb6A3)\n",
      " Call ID: 2OssVb6A3\n",
      "  Args:\n",
      "    grammy_wins: 7\n",
      "    other_awards: 12\n",
      "=================================\u001b[1m Tool Message \u001b[0m=================================\n",
      "Name: calculate_total_awards\n",
      "\n",
      "19\n",
      "==================================\u001b[1m Ai Message \u001b[0m==================================\n",
      "Tool Calls:\n",
      "  calculate_total_awards (2OssVb6A3)\n",
      " Call ID: 2OssVb6A3\n",
      "  Args:\n",
      "    grammy_wins: 7\n",
      "    other_awards: 12\n",
      "=================================\u001b[1m Tool Message \u001b[0m=================================\n",
      "Name: calculate_total_awards\n",
      "\n",
      "19\n",
      "==================================\u001b[1m Ai Message \u001b[0m==================================\n",
      "\n",
      "John Mayer's total music awards amount to **19**, consisting of **7 Grammy wins** and **12 other major music awards**. Would you like a breakdown of his most notable accolades?\n",
      "==================================\u001b[1m Ai Message \u001b[0m==================================\n",
      "\n",
      "John Mayer's total music awards amount to **19**, consisting of **7 Grammy wins** and **12 other major music awards**. Would you like a breakdown of his most notable accolades?\n"
     ]
    }
   ],
   "source": [
    "# Input - Calculate John Mayer's total awards\n",
    "initial_input = {\"messages\": HumanMessage(content=\"Calculate John Mayer's total awards if he has 7 Grammy wins and 12 other major music awards\")}\n",
    "\n",
    "# Thread\n",
    "thread = {\"configurable\": {\"thread_id\": \"1\"}}\n",
    "\n",
    "# Run the graph until the first interruption\n",
    "for event in graph.stream(initial_input, thread, stream_mode=\"values\"):\n",
    "    event['messages'][-1].pretty_print()"
   ]
  },
  {
   "cell_type": "markdown",
   "id": "268cfa43-22d1-4d63-8d81-a3ce00f1f2c8",
   "metadata": {},
   "source": [
    "## Browsing History\n",
    "\n",
    "We can use `get_state` to look at the **current** state of our graph, given the `thread_id`!"
   ]
  },
  {
   "cell_type": "code",
   "execution_count": 14,
   "id": "161eb053-18f6-4c99-8674-8cbd11cae57e",
   "metadata": {},
   "outputs": [
    {
     "data": {
      "text/plain": [
       "StateSnapshot(values={'messages': [HumanMessage(content=\"Calculate John Mayer's total awards if he has 7 Grammy wins and 12 other major music awards\", additional_kwargs={}, response_metadata={}, id='02edb9a8-71f6-4aa0-a329-73d6aa525f25'), AIMessage(content='', additional_kwargs={'tool_calls': [{'id': '2OssVb6A3', 'function': {'name': 'calculate_total_awards', 'arguments': '{\"grammy_wins\": 7, \"other_awards\": 12}'}, 'index': 0}]}, response_metadata={'token_usage': {'prompt_tokens': 521, 'total_tokens': 546, 'completion_tokens': 25}, 'model_name': 'mistral-large-latest', 'model': 'mistral-large-latest', 'finish_reason': 'tool_calls', 'model_provider': 'mistralai'}, id='lc_run--50a6ad14-efaa-483c-9ceb-b5a628899f6c-0', tool_calls=[{'name': 'calculate_total_awards', 'args': {'grammy_wins': 7, 'other_awards': 12}, 'id': '2OssVb6A3', 'type': 'tool_call'}], usage_metadata={'input_tokens': 521, 'output_tokens': 25, 'total_tokens': 546}), ToolMessage(content='19', name='calculate_total_awards', id='cdcc7afd-deae-4000-891e-688cf3e1dcf9', tool_call_id='2OssVb6A3'), AIMessage(content=\"John Mayer's total music awards amount to **19**, consisting of **7 Grammy wins** and **12 other major music awards**. Would you like a breakdown of his most notable accolades?\", additional_kwargs={}, response_metadata={'token_usage': {'prompt_tokens': 550, 'total_tokens': 591, 'completion_tokens': 41}, 'model_name': 'mistral-large-latest', 'model': 'mistral-large-latest', 'finish_reason': 'stop', 'model_provider': 'mistralai'}, id='lc_run--6d083bfb-18c5-49c7-98fd-322681a8722d-0', usage_metadata={'input_tokens': 550, 'output_tokens': 41, 'total_tokens': 591})]}, next=(), config={'configurable': {'thread_id': '1', 'checkpoint_ns': '', 'checkpoint_id': '1f0b351f-bf9d-63ac-8003-653df8175f8b'}}, metadata={'source': 'loop', 'step': 3, 'parents': {}}, created_at='2025-10-27T16:28:34.966184+00:00', parent_config={'configurable': {'thread_id': '1', 'checkpoint_ns': '', 'checkpoint_id': '1f0b351f-b01a-6eb8-8002-cccec0f4b999'}}, tasks=(), interrupts=())"
      ]
     },
     "execution_count": 14,
     "metadata": {},
     "output_type": "execute_result"
    }
   ],
   "source": [
    "graph.get_state({'configurable': {'thread_id': '1'}})"
   ]
  },
  {
   "cell_type": "markdown",
   "id": "8d00869e-7b41-4d71-ad3c-cacf8f9c029f",
   "metadata": {},
   "source": [
    "We can also browse the state history of our agent.\n",
    "\n",
    "`get_state_history` lets us get the state at all prior steps.\n"
   ]
  },
  {
   "cell_type": "code",
   "execution_count": 15,
   "id": "3010169c-3bfa-498c-a30c-7ba53744e4d5",
   "metadata": {},
   "outputs": [],
   "source": [
    "all_states = [s for s in graph.get_state_history(thread)]"
   ]
  },
  {
   "cell_type": "code",
   "execution_count": 16,
   "id": "c4612ccf-59fc-4848-8845-0433fee2ca8e",
   "metadata": {},
   "outputs": [
    {
     "data": {
      "text/plain": [
       "5"
      ]
     },
     "execution_count": 16,
     "metadata": {},
     "output_type": "execute_result"
    }
   ],
   "source": [
    "len(all_states)"
   ]
  },
  {
   "cell_type": "markdown",
   "id": "af30f269-1152-4fa1-a7c6-2947acad9a27",
   "metadata": {},
   "source": [
    "The first element is the current state, just as we got from `get_state`."
   ]
  },
  {
   "cell_type": "code",
   "execution_count": 17,
   "id": "4e60b292-8efc-4cc3-b836-51f060fa608b",
   "metadata": {},
   "outputs": [
    {
     "data": {
      "text/plain": [
       "StateSnapshot(values={'messages': [HumanMessage(content=\"Calculate John Mayer's total awards if he has 7 Grammy wins and 12 other major music awards\", additional_kwargs={}, response_metadata={}, id='02edb9a8-71f6-4aa0-a329-73d6aa525f25')]}, next=('assistant',), config={'configurable': {'thread_id': '1', 'checkpoint_ns': '', 'checkpoint_id': '1f0b351f-a961-6ada-8000-a9ccece81705'}}, metadata={'source': 'loop', 'step': 0, 'parents': {}}, created_at='2025-10-27T16:28:32.634945+00:00', parent_config={'configurable': {'thread_id': '1', 'checkpoint_ns': '', 'checkpoint_id': '1f0b351f-a95f-68aa-bfff-d79cff99b893'}}, tasks=(PregelTask(id='0467105c-3388-69d3-71f3-23e737f92aae', name='assistant', path=('__pregel_pull', 'assistant'), error=None, interrupts=(), state=None, result={'messages': [AIMessage(content='', additional_kwargs={'tool_calls': [{'id': '2OssVb6A3', 'function': {'name': 'calculate_total_awards', 'arguments': '{\"grammy_wins\": 7, \"other_awards\": 12}'}, 'index': 0}]}, response_metadata={'token_usage': {'prompt_tokens': 521, 'total_tokens': 546, 'completion_tokens': 25}, 'model_name': 'mistral-large-latest', 'model': 'mistral-large-latest', 'finish_reason': 'tool_calls', 'model_provider': 'mistralai'}, id='lc_run--50a6ad14-efaa-483c-9ceb-b5a628899f6c-0', tool_calls=[{'name': 'calculate_total_awards', 'args': {'grammy_wins': 7, 'other_awards': 12}, 'id': '2OssVb6A3', 'type': 'tool_call'}], usage_metadata={'input_tokens': 521, 'output_tokens': 25, 'total_tokens': 546})]}),), interrupts=())"
      ]
     },
     "execution_count": 17,
     "metadata": {},
     "output_type": "execute_result"
    }
   ],
   "source": [
    "all_states[-2]"
   ]
  },
  {
   "attachments": {},
   "cell_type": "markdown",
   "id": "4148a710-ceed-413b-b93c-070c6c792fa2",
   "metadata": {},
   "source": [
    "Everything above we can visualize here: \n",
    "\n",
    "![fig1.jpg](https://cdn.prod.website-files.com/65b8cd72835ceeacd4449a53/66dbb038211b544898570be3_time-travel1.png)"
   ]
  },
  {
   "attachments": {},
   "cell_type": "markdown",
   "id": "a5ad554a-faf3-489f-a9a9-774f4ec2a526",
   "metadata": {},
   "source": [
    "## Replaying \n",
    "\n",
    "We can re-run our agent from any of the prior steps.\n",
    "\n",
    "![fig2.jpg](https://cdn.prod.website-files.com/65b8cd72835ceeacd4449a53/66dbb038a0bd34b541c78fb8_time-travel2.png)"
   ]
  },
  {
   "cell_type": "markdown",
   "id": "e135d2db-d613-42da-877e-d429f21aaefd",
   "metadata": {},
   "source": [
    "Let's look back at the step that recieved human input!"
   ]
  },
  {
   "cell_type": "code",
   "execution_count": 18,
   "id": "3688e511-a440-4330-a450-e5ed889c3b30",
   "metadata": {},
   "outputs": [],
   "source": [
    "to_replay = all_states[-2]"
   ]
  },
  {
   "cell_type": "code",
   "execution_count": 19,
   "id": "72adf296-d519-4bdc-af03-3b29799e9534",
   "metadata": {},
   "outputs": [
    {
     "data": {
      "text/plain": [
       "StateSnapshot(values={'messages': [HumanMessage(content=\"Calculate John Mayer's total awards if he has 7 Grammy wins and 12 other major music awards\", additional_kwargs={}, response_metadata={}, id='02edb9a8-71f6-4aa0-a329-73d6aa525f25')]}, next=('assistant',), config={'configurable': {'thread_id': '1', 'checkpoint_ns': '', 'checkpoint_id': '1f0b351f-a961-6ada-8000-a9ccece81705'}}, metadata={'source': 'loop', 'step': 0, 'parents': {}}, created_at='2025-10-27T16:28:32.634945+00:00', parent_config={'configurable': {'thread_id': '1', 'checkpoint_ns': '', 'checkpoint_id': '1f0b351f-a95f-68aa-bfff-d79cff99b893'}}, tasks=(PregelTask(id='0467105c-3388-69d3-71f3-23e737f92aae', name='assistant', path=('__pregel_pull', 'assistant'), error=None, interrupts=(), state=None, result={'messages': [AIMessage(content='', additional_kwargs={'tool_calls': [{'id': '2OssVb6A3', 'function': {'name': 'calculate_total_awards', 'arguments': '{\"grammy_wins\": 7, \"other_awards\": 12}'}, 'index': 0}]}, response_metadata={'token_usage': {'prompt_tokens': 521, 'total_tokens': 546, 'completion_tokens': 25}, 'model_name': 'mistral-large-latest', 'model': 'mistral-large-latest', 'finish_reason': 'tool_calls', 'model_provider': 'mistralai'}, id='lc_run--50a6ad14-efaa-483c-9ceb-b5a628899f6c-0', tool_calls=[{'name': 'calculate_total_awards', 'args': {'grammy_wins': 7, 'other_awards': 12}, 'id': '2OssVb6A3', 'type': 'tool_call'}], usage_metadata={'input_tokens': 521, 'output_tokens': 25, 'total_tokens': 546})]}),), interrupts=())"
      ]
     },
     "execution_count": 19,
     "metadata": {},
     "output_type": "execute_result"
    }
   ],
   "source": [
    "to_replay"
   ]
  },
  {
   "cell_type": "markdown",
   "id": "571e7894-6546-48ff-9c25-fa6d120391b3",
   "metadata": {},
   "source": [
    "Look at the state."
   ]
  },
  {
   "cell_type": "code",
   "execution_count": 20,
   "id": "6fe69428-f364-4330-bf5d-aa966c7f3b07",
   "metadata": {},
   "outputs": [
    {
     "data": {
      "text/plain": [
       "{'messages': [HumanMessage(content=\"Calculate John Mayer's total awards if he has 7 Grammy wins and 12 other major music awards\", additional_kwargs={}, response_metadata={}, id='02edb9a8-71f6-4aa0-a329-73d6aa525f25')]}"
      ]
     },
     "execution_count": 20,
     "metadata": {},
     "output_type": "execute_result"
    }
   ],
   "source": [
    "to_replay.values"
   ]
  },
  {
   "cell_type": "markdown",
   "id": "ff2df545-cc80-4962-a34a-faac7af8eb3d",
   "metadata": {},
   "source": [
    "We can see the next node to call."
   ]
  },
  {
   "cell_type": "code",
   "execution_count": 21,
   "id": "d2f333f9-9b2b-46f6-ac3a-525f86b20f1b",
   "metadata": {},
   "outputs": [
    {
     "data": {
      "text/plain": [
       "('assistant',)"
      ]
     },
     "execution_count": 21,
     "metadata": {},
     "output_type": "execute_result"
    }
   ],
   "source": [
    "to_replay.next"
   ]
  },
  {
   "cell_type": "markdown",
   "id": "b8938c18-5c22-47df-b71e-40afa73c87af",
   "metadata": {},
   "source": [
    "We also get the config, which tells us the `checkpoint_id` as well as the `thread_id`."
   ]
  },
  {
   "cell_type": "code",
   "execution_count": 22,
   "id": "b1298786-afa5-4277-927e-708a8629231b",
   "metadata": {},
   "outputs": [
    {
     "data": {
      "text/plain": [
       "{'configurable': {'thread_id': '1',\n",
       "  'checkpoint_ns': '',\n",
       "  'checkpoint_id': '1f0b351f-a961-6ada-8000-a9ccece81705'}}"
      ]
     },
     "execution_count": 22,
     "metadata": {},
     "output_type": "execute_result"
    }
   ],
   "source": [
    "to_replay.config"
   ]
  },
  {
   "cell_type": "markdown",
   "id": "1d93b5eb-f541-4f82-93b1-48f54bf5cf83",
   "metadata": {},
   "source": [
    "To replay from here, we simply pass the config back to the agent!\n",
    "\n",
    "The graph knows that this checkpoint has aleady been executed. \n",
    "\n",
    "It just re-plays from this checkpoint!"
   ]
  },
  {
   "cell_type": "code",
   "execution_count": 23,
   "id": "531b4cd1-54f6-44aa-9ffe-cf5403dad65d",
   "metadata": {},
   "outputs": [
    {
     "name": "stdout",
     "output_type": "stream",
     "text": [
      "================================\u001b[1m Human Message \u001b[0m=================================\n",
      "\n",
      "Calculate John Mayer's total awards if he has 7 Grammy wins and 12 other major music awards\n"
     ]
    },
    {
     "name": "stdout",
     "output_type": "stream",
     "text": [
      "==================================\u001b[1m Ai Message \u001b[0m==================================\n",
      "Tool Calls:\n",
      "  calculate_total_awards (T76mP0uuk)\n",
      " Call ID: T76mP0uuk\n",
      "  Args:\n",
      "    grammy_wins: 7\n",
      "    other_awards: 12\n",
      "=================================\u001b[1m Tool Message \u001b[0m=================================\n",
      "Name: calculate_total_awards\n",
      "\n",
      "19\n",
      "==================================\u001b[1m Ai Message \u001b[0m==================================\n",
      "\n",
      "John Mayer's total music awards amount to **19**, comprising **7 Grammy wins** and **12 other major music awards**.\n",
      "==================================\u001b[1m Ai Message \u001b[0m==================================\n",
      "\n",
      "John Mayer's total music awards amount to **19**, comprising **7 Grammy wins** and **12 other major music awards**.\n"
     ]
    }
   ],
   "source": [
    "for event in graph.stream(None, to_replay.config, stream_mode=\"values\"):\n",
    "    event['messages'][-1].pretty_print()"
   ]
  },
  {
   "cell_type": "markdown",
   "id": "7d7a914e-63e6-4424-970f-15059ce9b4c3",
   "metadata": {},
   "source": [
    "Now, we can see our current state after the agent re-ran."
   ]
  },
  {
   "attachments": {},
   "cell_type": "markdown",
   "id": "5a5a1f03-19f2-4d22-ba54-1c065ff08e85",
   "metadata": {},
   "source": [
    "## Forking\n",
    "\n",
    "What if we want to run from that same step, but with a different input.\n",
    "\n",
    "This is forking.\n",
    "\n",
    "![fig3.jpg](https://cdn.prod.website-files.com/65b8cd72835ceeacd4449a53/66dbb038f89f2d847ee5c336_time-travel3.png)"
   ]
  },
  {
   "cell_type": "code",
   "execution_count": 24,
   "id": "cdeb5bf2-1566-4d8c-8ea5-65894e3a7038",
   "metadata": {},
   "outputs": [
    {
     "data": {
      "text/plain": [
       "[HumanMessage(content=\"Calculate John Mayer's total awards if he has 7 Grammy wins and 12 other major music awards\", additional_kwargs={}, response_metadata={}, id='02edb9a8-71f6-4aa0-a329-73d6aa525f25')]"
      ]
     },
     "execution_count": 24,
     "metadata": {},
     "output_type": "execute_result"
    }
   ],
   "source": [
    "to_fork = all_states[-2]\n",
    "to_fork.values[\"messages\"]"
   ]
  },
  {
   "cell_type": "markdown",
   "id": "4a15f6a6-6eaa-48d6-92bb-864ea3a31b6a",
   "metadata": {},
   "source": [
    "Again, we have the config."
   ]
  },
  {
   "cell_type": "code",
   "execution_count": 25,
   "id": "d1621b27-ee51-4dc3-81c4-1d05317280db",
   "metadata": {},
   "outputs": [
    {
     "data": {
      "text/plain": [
       "{'configurable': {'thread_id': '1',\n",
       "  'checkpoint_ns': '',\n",
       "  'checkpoint_id': '1f0b351f-a961-6ada-8000-a9ccece81705'}}"
      ]
     },
     "execution_count": 25,
     "metadata": {},
     "output_type": "execute_result"
    }
   ],
   "source": [
    "to_fork.config"
   ]
  },
  {
   "cell_type": "markdown",
   "id": "c2102195-0583-4dbe-ad2f-02fac7915585",
   "metadata": {},
   "source": [
    "Let's modify the state at this checkpoint.\n",
    "\n",
    "We can just run `update_state` with the `checkpoint_id` supplied. \n",
    "\n",
    "Remember how our reducer on `messages` works: \n",
    "\n",
    "* It will append, unless we supply a message ID.\n",
    "* We supply the message ID to overwrite the message, rather than appending to state!\n",
    "\n",
    "So, to overwrite the the message, we just supply the message ID, which we have `to_fork.values[\"messages\"].id`."
   ]
  },
  {
   "cell_type": "code",
   "execution_count": 26,
   "id": "0b4a918d-858a-41ac-a5d4-e99260e2d6ec",
   "metadata": {},
   "outputs": [],
   "source": [
    "fork_config = graph.update_state(\n",
    "    to_fork.config,\n",
    "    {\"messages\": [HumanMessage(content='Count John Mayer total charting songs: 8 top 10 hits and 15 top 40 hits', \n",
    "                               id=to_fork.values[\"messages\"][0].id)]},\n",
    ")"
   ]
  },
  {
   "cell_type": "code",
   "execution_count": 27,
   "id": "8ff4e9bb-8221-42d1-b7d0-b0cbd5dc374a",
   "metadata": {},
   "outputs": [
    {
     "data": {
      "text/plain": [
       "{'configurable': {'thread_id': '1',\n",
       "  'checkpoint_ns': '',\n",
       "  'checkpoint_id': '1f0b351f-d5e9-6b32-8001-30b958019e63'}}"
      ]
     },
     "execution_count": 27,
     "metadata": {},
     "output_type": "execute_result"
    }
   ],
   "source": [
    "fork_config"
   ]
  },
  {
   "cell_type": "markdown",
   "id": "bebfe6fd-c94b-4291-a125-ec6170e35bc5",
   "metadata": {},
   "source": [
    "This creates a new, forked checkpoint.\n",
    " \n",
    "But, the metadata - e.g., where to go next - is perserved! \n",
    "\n",
    "We can see the current state of our agent has been updated with our fork."
   ]
  },
  {
   "cell_type": "code",
   "execution_count": 28,
   "id": "586ce86c-1257-45e9-ba30-6287932b9484",
   "metadata": {},
   "outputs": [
    {
     "data": {
      "text/plain": [
       "[HumanMessage(content='Count John Mayer total charting songs: 8 top 10 hits and 15 top 40 hits', additional_kwargs={}, response_metadata={}, id='02edb9a8-71f6-4aa0-a329-73d6aa525f25'),\n",
       " AIMessage(content='', additional_kwargs={'tool_calls': [{'id': '2OssVb6A3', 'function': {'name': 'calculate_total_awards', 'arguments': '{\"grammy_wins\": 7, \"other_awards\": 12}'}, 'index': 0}]}, response_metadata={'token_usage': {'prompt_tokens': 521, 'total_tokens': 546, 'completion_tokens': 25}, 'model_name': 'mistral-large-latest', 'model': 'mistral-large-latest', 'finish_reason': 'tool_calls', 'model_provider': 'mistralai'}, id='lc_run--50a6ad14-efaa-483c-9ceb-b5a628899f6c-0', tool_calls=[{'name': 'calculate_total_awards', 'args': {'grammy_wins': 7, 'other_awards': 12}, 'id': '2OssVb6A3', 'type': 'tool_call'}], usage_metadata={'input_tokens': 521, 'output_tokens': 25, 'total_tokens': 546})]"
      ]
     },
     "execution_count": 28,
     "metadata": {},
     "output_type": "execute_result"
    }
   ],
   "source": [
    "all_states = [state for state in graph.get_state_history(thread) ]\n",
    "all_states[0].values[\"messages\"]"
   ]
  },
  {
   "cell_type": "code",
   "execution_count": 29,
   "id": "12e19798-25d8-49e8-8542-13d2b3bdf58e",
   "metadata": {},
   "outputs": [
    {
     "data": {
      "text/plain": [
       "StateSnapshot(values={'messages': [HumanMessage(content='Count John Mayer total charting songs: 8 top 10 hits and 15 top 40 hits', additional_kwargs={}, response_metadata={}, id='02edb9a8-71f6-4aa0-a329-73d6aa525f25'), AIMessage(content='', additional_kwargs={'tool_calls': [{'id': '2OssVb6A3', 'function': {'name': 'calculate_total_awards', 'arguments': '{\"grammy_wins\": 7, \"other_awards\": 12}'}, 'index': 0}]}, response_metadata={'token_usage': {'prompt_tokens': 521, 'total_tokens': 546, 'completion_tokens': 25}, 'model_name': 'mistral-large-latest', 'model': 'mistral-large-latest', 'finish_reason': 'tool_calls', 'model_provider': 'mistralai'}, id='lc_run--50a6ad14-efaa-483c-9ceb-b5a628899f6c-0', tool_calls=[{'name': 'calculate_total_awards', 'args': {'grammy_wins': 7, 'other_awards': 12}, 'id': '2OssVb6A3', 'type': 'tool_call'}], usage_metadata={'input_tokens': 521, 'output_tokens': 25, 'total_tokens': 546})]}, next=('tools',), config={'configurable': {'thread_id': '1', 'checkpoint_ns': '', 'checkpoint_id': '1f0b351f-d5e9-6b32-8001-30b958019e63'}}, metadata={'source': 'update', 'step': 1, 'parents': {}}, created_at='2025-10-27T16:28:37.304379+00:00', parent_config={'configurable': {'thread_id': '1', 'checkpoint_ns': '', 'checkpoint_id': '1f0b351f-a961-6ada-8000-a9ccece81705'}}, tasks=(PregelTask(id='6d990c23-455b-0bdc-50b9-07713149f5e1', name='tools', path=('__pregel_pull', 'tools'), error=None, interrupts=(), state=None, result=None),), interrupts=())"
      ]
     },
     "execution_count": 29,
     "metadata": {},
     "output_type": "execute_result"
    }
   ],
   "source": [
    "graph.get_state({'configurable': {'thread_id': '1'}})"
   ]
  },
  {
   "cell_type": "markdown",
   "id": "78c641e2-b8e9-4461-b854-8725006a5eb6",
   "metadata": {},
   "source": [
    "Now, when we stream, the graph knows this checkpoint has never been executed.\n",
    "\n",
    "So, the graph runs, rather than simply re-playing."
   ]
  },
  {
   "cell_type": "code",
   "execution_count": 30,
   "id": "1c49f2a8-b325-45e4-b36c-17fab1b37cc0",
   "metadata": {},
   "outputs": [
    {
     "name": "stdout",
     "output_type": "stream",
     "text": [
      "==================================\u001b[1m Ai Message \u001b[0m==================================\n",
      "Tool Calls:\n",
      "  calculate_total_awards (2OssVb6A3)\n",
      " Call ID: 2OssVb6A3\n",
      "  Args:\n",
      "    grammy_wins: 7\n",
      "    other_awards: 12\n",
      "=================================\u001b[1m Tool Message \u001b[0m=================================\n",
      "Name: calculate_total_awards\n",
      "\n",
      "19\n",
      "==================================\u001b[1m Ai Message \u001b[0m==================================\n",
      "\n",
      "John Mayer has a total of **19 charting songs** on the Billboard Hot 100, broken down as:\n",
      "- **8 Top 10 Hits**\n",
      "- **11 Additional Top 40 Hits** (since 19 total - 8 top 10 = 11).\n",
      "\n",
      "Additionally, he has won **7 Grammy Awards** and **12 other major music awards**, totaling **19 major awards** in his career.\n",
      "\n",
      "Would you like a deeper breakdown of his chart performance or revenue estimates?\n",
      "==================================\u001b[1m Ai Message \u001b[0m==================================\n",
      "\n",
      "John Mayer has a total of **19 charting songs** on the Billboard Hot 100, broken down as:\n",
      "- **8 Top 10 Hits**\n",
      "- **11 Additional Top 40 Hits** (since 19 total - 8 top 10 = 11).\n",
      "\n",
      "Additionally, he has won **7 Grammy Awards** and **12 other major music awards**, totaling **19 major awards** in his career.\n",
      "\n",
      "Would you like a deeper breakdown of his chart performance or revenue estimates?\n"
     ]
    }
   ],
   "source": [
    "for event in graph.stream(None, fork_config, stream_mode=\"values\"):\n",
    "    event['messages'][-1].pretty_print()"
   ]
  },
  {
   "cell_type": "markdown",
   "id": "428d7f80-ee60-4147-b51f-ee3b0cf5cbba",
   "metadata": {},
   "source": [
    "Now, we can see the current state is the end of our agent run."
   ]
  },
  {
   "cell_type": "code",
   "execution_count": 31,
   "id": "132ef840-64c7-479c-ad34-3f177f4b2524",
   "metadata": {},
   "outputs": [
    {
     "data": {
      "text/plain": [
       "StateSnapshot(values={'messages': [HumanMessage(content='Count John Mayer total charting songs: 8 top 10 hits and 15 top 40 hits', additional_kwargs={}, response_metadata={}, id='02edb9a8-71f6-4aa0-a329-73d6aa525f25'), AIMessage(content='', additional_kwargs={'tool_calls': [{'id': '2OssVb6A3', 'function': {'name': 'calculate_total_awards', 'arguments': '{\"grammy_wins\": 7, \"other_awards\": 12}'}, 'index': 0}]}, response_metadata={'token_usage': {'prompt_tokens': 521, 'total_tokens': 546, 'completion_tokens': 25}, 'model_name': 'mistral-large-latest', 'model': 'mistral-large-latest', 'finish_reason': 'tool_calls', 'model_provider': 'mistralai'}, id='lc_run--50a6ad14-efaa-483c-9ceb-b5a628899f6c-0', tool_calls=[{'name': 'calculate_total_awards', 'args': {'grammy_wins': 7, 'other_awards': 12}, 'id': '2OssVb6A3', 'type': 'tool_call'}], usage_metadata={'input_tokens': 521, 'output_tokens': 25, 'total_tokens': 546}), ToolMessage(content='19', name='calculate_total_awards', id='624807a2-4f5d-4edc-ab78-8fbbe39e2beb', tool_call_id='2OssVb6A3'), AIMessage(content='John Mayer has a total of **19 charting songs** on the Billboard Hot 100, broken down as:\\n- **8 Top 10 Hits**\\n- **11 Additional Top 40 Hits** (since 19 total - 8 top 10 = 11).\\n\\nAdditionally, he has won **7 Grammy Awards** and **12 other major music awards**, totaling **19 major awards** in his career.\\n\\nWould you like a deeper breakdown of his chart performance or revenue estimates?', additional_kwargs={}, response_metadata={'token_usage': {'prompt_tokens': 553, 'total_tokens': 663, 'completion_tokens': 110}, 'model_name': 'mistral-large-latest', 'model': 'mistral-large-latest', 'finish_reason': 'stop', 'model_provider': 'mistralai'}, id='lc_run--ca69dc6b-7d22-4da1-aa5c-b372d120b195-0', usage_metadata={'input_tokens': 553, 'output_tokens': 110, 'total_tokens': 663})]}, next=(), config={'configurable': {'thread_id': '1', 'checkpoint_ns': '', 'checkpoint_id': '1f0b351f-fa37-6a74-8003-887826bd73b5'}}, metadata={'source': 'loop', 'step': 3, 'parents': {}}, created_at='2025-10-27T16:28:41.111181+00:00', parent_config={'configurable': {'thread_id': '1', 'checkpoint_ns': '', 'checkpoint_id': '1f0b351f-d64e-6bbc-8002-ffb4aca5fb4f'}}, tasks=(), interrupts=())"
      ]
     },
     "execution_count": 31,
     "metadata": {},
     "output_type": "execute_result"
    }
   ],
   "source": [
    "graph.get_state({'configurable': {'thread_id': '1'}})"
   ]
  },
  {
   "attachments": {},
   "cell_type": "markdown",
   "id": "2ceb5f31-97b0-466c-9b3b-ae4df7cd462a",
   "metadata": {},
   "source": [
    "### Time travel with LangGraph API\n",
    "\n",
    "**⚠️ DISCLAIMER**\n",
    "\n",
    "Since the filming of these videos, we've updated Studio so that it can be run locally and opened in your browser. This is now the preferred way to run Studio (rather than using the Desktop App as shown in the video). See documentation [here](https://langchain-ai.github.io/langgraph/concepts/langgraph_studio/#local-development-server) on the local development server and [here](https://langchain-ai.github.io/langgraph/how-tos/local-studio/#run-the-development-server). To start the local development server, run the following command in your terminal in the `/studio` directory in this module:\n",
    "\n",
    "```\n",
    "langgraph dev\n",
    "```\n",
    "\n",
    "You should see the following output:\n",
    "```\n",
    "- 🚀 API: http://127.0.0.1:2024\n",
    "- 🎨 Studio UI: https://smith.langchain.com/studio/?baseUrl=http://127.0.0.1:2024\n",
    "- 📚 API Docs: http://127.0.0.1:2024/docs\n",
    "```\n",
    "\n",
    "Open your browser and navigate to the Studio UI: `https://smith.langchain.com/studio/?baseUrl=http://127.0.0.1:2024`.\n",
    "\n",
    "We connect to it via the SDK and show how the LangGraph API [supports time travel](https://langchain-ai.github.io/langgraph/cloud/how-tos/human_in_the_loop_time_travel/#initial-invocation). "
   ]
  },
  {
   "cell_type": "code",
   "execution_count": 32,
   "id": "891defdb-746c-48e4-8efa-bb5f138dc4bd",
   "metadata": {},
   "outputs": [],
   "source": [
    "if 'google.colab' in str(get_ipython()):\n",
    "    raise Exception(\"Unfortunately LangGraph Studio is currently not supported on Google Colab\")"
   ]
  },
  {
   "cell_type": "code",
   "execution_count": 33,
   "id": "a317925d-1788-4cfc-9c12-336b17b4d859",
   "metadata": {},
   "outputs": [],
   "source": [
    "from langgraph_sdk import get_client\n",
    "client = get_client(url=\"http://127.0.0.1:2024\")"
   ]
  },
  {
   "cell_type": "markdown",
   "id": "815d5e03-0ab8-4c7f-a1ee-f410b6aadc03",
   "metadata": {},
   "source": [
    "#### Re-playing \n",
    "\n",
    "Let's run our agent streaming `updates` to the state of the graph after each node is called."
   ]
  },
  {
   "cell_type": "code",
   "execution_count": 34,
   "id": "9d4d01da-7b64-4c92-96b7-29ec93332d0b",
   "metadata": {},
   "outputs": [],
   "source": [
    "initial_input = {\"messages\": HumanMessage(content=\"Estimate John Mayer's monthly streaming revenue with 50 million monthly streams at $0.004 per stream\")}\n",
    "thread = await client.threads.create()\n",
    "async for chunk in client.runs.stream(\n",
    "    thread[\"thread_id\"],\n",
    "    assistant_id = \"agent\",\n",
    "    input=initial_input,\n",
    "    stream_mode=\"updates\",\n",
    "):\n",
    "    if chunk.data:\n",
    "        assisant_node = chunk.data.get('assistant', {}).get('messages', [])\n",
    "        tool_node = chunk.data.get('tools', {}).get('messages', [])\n",
    "        if assisant_node:\n",
    "            print(\"-\" * 20+\"Assistant Node\"+\"-\" * 20)\n",
    "            print(assisant_node[-1])\n",
    "        elif tool_node:\n",
    "            print(\"-\" * 20+\"Tools Node\"+\"-\" * 20)\n",
    "            print(tool_node[-1])"
   ]
  },
  {
   "cell_type": "markdown",
   "id": "8cc3bab2",
   "metadata": {},
   "source": [
    "Now, let's look at **replaying** from a specified checkpoint. \n",
    "\n",
    "We simply need to pass the `checkpoint_id`."
   ]
  },
  {
   "cell_type": "code",
   "execution_count": 35,
   "id": "d8ecc4fd",
   "metadata": {},
   "outputs": [
    {
     "data": {
      "text/plain": [
       "{'values': {'messages': [{'content': \"Estimate John Mayer's monthly streaming revenue with 50 million monthly streams at $0.004 per stream\",\n",
       "    'additional_kwargs': {},\n",
       "    'response_metadata': {},\n",
       "    'type': 'human',\n",
       "    'name': None,\n",
       "    'id': '1916ddda-a464-444e-8130-685750f5f1f5'}]},\n",
       " 'next': ['assistant'],\n",
       " 'tasks': [{'id': '51ba9c80-8557-a397-60f5-b1ec0d19f5da',\n",
       "   'name': 'assistant',\n",
       "   'path': ['__pregel_pull', 'assistant'],\n",
       "   'error': 'HTTPStatusError(\\'Error response 429 while fetching https://api.mistral.ai/v1/chat/completions: {\"object\":\"error\",\"message\":\"Service tier capacity exceeded for this model.\",\"type\":\"service_tier_capacity_exceeded\",\"param\":null,\"code\":\"3505\"}\\')',\n",
       "   'interrupts': [],\n",
       "   'checkpoint': None,\n",
       "   'state': None,\n",
       "   'result': None}],\n",
       " 'metadata': {'langgraph_auth_user': None,\n",
       "  'langgraph_auth_user_id': '',\n",
       "  'langgraph_auth_permissions': [],\n",
       "  'langgraph_request_id': '6f03b3b1-e6a2-4fba-8021-9c36e7ad7a5a',\n",
       "  'graph_id': 'agent',\n",
       "  'assistant_id': 'fe096781-5601-53d2-b2f6-0d3403f7e9ca',\n",
       "  'user_id': '',\n",
       "  'created_by': 'system',\n",
       "  'run_attempt': 1,\n",
       "  'langgraph_version': '1.0.1',\n",
       "  'langgraph_api_version': '0.4.46',\n",
       "  'langgraph_plan': 'developer',\n",
       "  'langgraph_host': 'self-hosted',\n",
       "  'langgraph_api_url': 'http://127.0.0.1:2024',\n",
       "  'run_id': '019a2680-1bdd-7623-b60c-f5e58560edb7',\n",
       "  'thread_id': 'e20cff65-5e3f-4dc5-aa8d-724e125eec37',\n",
       "  'source': 'loop',\n",
       "  'step': 0,\n",
       "  'parents': {}},\n",
       " 'created_at': '2025-10-27T16:28:42.282307+00:00',\n",
       " 'checkpoint': {'checkpoint_id': '1f0b3520-0562-6d2a-8000-25e3141e9f69',\n",
       "  'thread_id': 'e20cff65-5e3f-4dc5-aa8d-724e125eec37',\n",
       "  'checkpoint_ns': ''},\n",
       " 'parent_checkpoint': {'checkpoint_id': '1f0b3520-0560-60f8-bfff-245c857636b3',\n",
       "  'thread_id': 'e20cff65-5e3f-4dc5-aa8d-724e125eec37',\n",
       "  'checkpoint_ns': ''},\n",
       " 'interrupts': [],\n",
       " 'checkpoint_id': '1f0b3520-0562-6d2a-8000-25e3141e9f69',\n",
       " 'parent_checkpoint_id': '1f0b3520-0560-60f8-bfff-245c857636b3'}"
      ]
     },
     "execution_count": 35,
     "metadata": {},
     "output_type": "execute_result"
    }
   ],
   "source": [
    "states = await client.threads.get_history(thread['thread_id'])\n",
    "to_replay = states[-2]\n",
    "to_replay"
   ]
  },
  {
   "cell_type": "markdown",
   "id": "e33f865a",
   "metadata": {},
   "source": [
    "Let's stream with `stream_mode=\"values\"` to see the full state at every node as we replay. "
   ]
  },
  {
   "cell_type": "code",
   "execution_count": 36,
   "id": "325e8272",
   "metadata": {},
   "outputs": [
    {
     "name": "stdout",
     "output_type": "stream",
     "text": [
      "Receiving new event of type: metadata...\n",
      "{'run_id': '019a2680-2247-706a-8083-5893e60cb600', 'attempt': 1}\n",
      "\n",
      "\n",
      "\n",
      "Receiving new event of type: values...\n",
      "{'messages': [{'content': \"Estimate John Mayer's monthly streaming revenue with 50 million monthly streams at $0.004 per stream\", 'additional_kwargs': {}, 'response_metadata': {}, 'type': 'human', 'name': None, 'id': '1916ddda-a464-444e-8130-685750f5f1f5'}]}\n",
      "\n",
      "\n",
      "\n",
      "Receiving new event of type: values...\n",
      "{'messages': [{'content': \"Estimate John Mayer's monthly streaming revenue with 50 million monthly streams at $0.004 per stream\", 'additional_kwargs': {}, 'response_metadata': {}, 'type': 'human', 'name': None, 'id': '1916ddda-a464-444e-8130-685750f5f1f5'}, {'content': '', 'additional_kwargs': {'tool_calls': [{'id': 'xuuQMDg0S', 'function': {'name': 'multiply', 'arguments': '{\"a\": 50000000, \"b\": 0.004}'}, 'index': 0}]}, 'response_metadata': {'token_usage': {'prompt_tokens': 314, 'total_tokens': 342, 'completion_tokens': 28}, 'model_name': 'mistral-large-latest', 'model': 'mistral-large-latest', 'finish_reason': 'tool_calls', 'model_provider': 'mistralai'}, 'type': 'ai', 'name': None, 'id': 'lc_run--9ad6848d-194e-4eaf-8624-73fbd7b01f58-0', 'tool_calls': [{'name': 'multiply', 'args': {'a': 50000000, 'b': 0.004}, 'id': 'xuuQMDg0S', 'type': 'tool_call'}], 'invalid_tool_calls': [], 'usage_metadata': {'input_tokens': 314, 'output_tokens': 28, 'total_tokens': 342}}]}\n",
      "\n",
      "\n",
      "\n",
      "Receiving new event of type: values...\n",
      "{'messages': [{'content': \"Estimate John Mayer's monthly streaming revenue with 50 million monthly streams at $0.004 per stream\", 'additional_kwargs': {}, 'response_metadata': {}, 'type': 'human', 'name': None, 'id': '1916ddda-a464-444e-8130-685750f5f1f5'}, {'content': '', 'additional_kwargs': {'tool_calls': [{'id': 'xuuQMDg0S', 'function': {'name': 'multiply', 'arguments': '{\"a\": 50000000, \"b\": 0.004}'}, 'index': 0}]}, 'response_metadata': {'token_usage': {'prompt_tokens': 314, 'total_tokens': 342, 'completion_tokens': 28}, 'model_name': 'mistral-large-latest', 'model': 'mistral-large-latest', 'finish_reason': 'tool_calls', 'model_provider': 'mistralai'}, 'type': 'ai', 'name': None, 'id': 'lc_run--9ad6848d-194e-4eaf-8624-73fbd7b01f58-0', 'tool_calls': [{'name': 'multiply', 'args': {'a': 50000000, 'b': 0.004}, 'id': 'xuuQMDg0S', 'type': 'tool_call'}], 'invalid_tool_calls': [], 'usage_metadata': {'input_tokens': 314, 'output_tokens': 28, 'total_tokens': 342}}, {'content': 'Error: 1 validation error for multiply\\nb\\n  Input should be a valid integer, got a number with a fractional part [type=int_from_float, input_value=0.004, input_type=float]\\n    For further information visit https://errors.pydantic.dev/2.12/v/int_from_float\\n Please fix your mistakes.', 'additional_kwargs': {}, 'response_metadata': {}, 'type': 'tool', 'name': 'multiply', 'id': 'c8da565f-5f78-481e-ad5e-48eb214a180d', 'tool_call_id': 'xuuQMDg0S', 'artifact': None, 'status': 'error'}]}\n",
      "\n",
      "\n",
      "\n",
      "Receiving new event of type: values...\n",
      "{'messages': [{'content': \"Estimate John Mayer's monthly streaming revenue with 50 million monthly streams at $0.004 per stream\", 'additional_kwargs': {}, 'response_metadata': {}, 'type': 'human', 'name': None, 'id': '1916ddda-a464-444e-8130-685750f5f1f5'}, {'content': '', 'additional_kwargs': {'tool_calls': [{'id': 'xuuQMDg0S', 'function': {'name': 'multiply', 'arguments': '{\"a\": 50000000, \"b\": 0.004}'}, 'index': 0}]}, 'response_metadata': {'token_usage': {'prompt_tokens': 314, 'total_tokens': 342, 'completion_tokens': 28}, 'model_name': 'mistral-large-latest', 'model': 'mistral-large-latest', 'finish_reason': 'tool_calls', 'model_provider': 'mistralai'}, 'type': 'ai', 'name': None, 'id': 'lc_run--9ad6848d-194e-4eaf-8624-73fbd7b01f58-0', 'tool_calls': [{'name': 'multiply', 'args': {'a': 50000000, 'b': 0.004}, 'id': 'xuuQMDg0S', 'type': 'tool_call'}], 'invalid_tool_calls': [], 'usage_metadata': {'input_tokens': 314, 'output_tokens': 28, 'total_tokens': 342}}]}\n",
      "\n",
      "\n",
      "\n",
      "Receiving new event of type: values...\n",
      "{'messages': [{'content': \"Estimate John Mayer's monthly streaming revenue with 50 million monthly streams at $0.004 per stream\", 'additional_kwargs': {}, 'response_metadata': {}, 'type': 'human', 'name': None, 'id': '1916ddda-a464-444e-8130-685750f5f1f5'}, {'content': '', 'additional_kwargs': {'tool_calls': [{'id': 'xuuQMDg0S', 'function': {'name': 'multiply', 'arguments': '{\"a\": 50000000, \"b\": 0.004}'}, 'index': 0}]}, 'response_metadata': {'token_usage': {'prompt_tokens': 314, 'total_tokens': 342, 'completion_tokens': 28}, 'model_name': 'mistral-large-latest', 'model': 'mistral-large-latest', 'finish_reason': 'tool_calls', 'model_provider': 'mistralai'}, 'type': 'ai', 'name': None, 'id': 'lc_run--9ad6848d-194e-4eaf-8624-73fbd7b01f58-0', 'tool_calls': [{'name': 'multiply', 'args': {'a': 50000000, 'b': 0.004}, 'id': 'xuuQMDg0S', 'type': 'tool_call'}], 'invalid_tool_calls': [], 'usage_metadata': {'input_tokens': 314, 'output_tokens': 28, 'total_tokens': 342}}, {'content': 'Error: 1 validation error for multiply\\nb\\n  Input should be a valid integer, got a number with a fractional part [type=int_from_float, input_value=0.004, input_type=float]\\n    For further information visit https://errors.pydantic.dev/2.12/v/int_from_float\\n Please fix your mistakes.', 'additional_kwargs': {}, 'response_metadata': {}, 'type': 'tool', 'name': 'multiply', 'id': 'c8da565f-5f78-481e-ad5e-48eb214a180d', 'tool_call_id': 'xuuQMDg0S', 'artifact': None, 'status': 'error'}]}\n",
      "\n",
      "\n",
      "\n",
      "Receiving new event of type: values...\n",
      "{'messages': [{'content': \"Estimate John Mayer's monthly streaming revenue with 50 million monthly streams at $0.004 per stream\", 'additional_kwargs': {}, 'response_metadata': {}, 'type': 'human', 'name': None, 'id': '1916ddda-a464-444e-8130-685750f5f1f5'}, {'content': '', 'additional_kwargs': {'tool_calls': [{'id': 'xuuQMDg0S', 'function': {'name': 'multiply', 'arguments': '{\"a\": 50000000, \"b\": 0.004}'}, 'index': 0}]}, 'response_metadata': {'token_usage': {'prompt_tokens': 314, 'total_tokens': 342, 'completion_tokens': 28}, 'model_name': 'mistral-large-latest', 'model': 'mistral-large-latest', 'finish_reason': 'tool_calls', 'model_provider': 'mistralai'}, 'type': 'ai', 'name': None, 'id': 'lc_run--9ad6848d-194e-4eaf-8624-73fbd7b01f58-0', 'tool_calls': [{'name': 'multiply', 'args': {'a': 50000000, 'b': 0.004}, 'id': 'xuuQMDg0S', 'type': 'tool_call'}], 'invalid_tool_calls': [], 'usage_metadata': {'input_tokens': 314, 'output_tokens': 28, 'total_tokens': 342}}, {'content': 'Error: 1 validation error for multiply\\nb\\n  Input should be a valid integer, got a number with a fractional part [type=int_from_float, input_value=0.004, input_type=float]\\n    For further information visit https://errors.pydantic.dev/2.12/v/int_from_float\\n Please fix your mistakes.', 'additional_kwargs': {}, 'response_metadata': {}, 'type': 'tool', 'name': 'multiply', 'id': 'c8da565f-5f78-481e-ad5e-48eb214a180d', 'tool_call_id': 'xuuQMDg0S', 'artifact': None, 'status': 'error'}, {'content': \"John Mayer's estimated monthly streaming revenue with 50 million streams at **$0.004 per stream** is:\\n\\n**50,000,000 × $0.004 = $200,000** per month.\", 'additional_kwargs': {}, 'response_metadata': {'token_usage': {'prompt_tokens': 416, 'total_tokens': 474, 'completion_tokens': 58}, 'model_name': 'mistral-large-latest', 'model': 'mistral-large-latest', 'finish_reason': 'stop', 'model_provider': 'mistralai'}, 'type': 'ai', 'name': None, 'id': 'lc_run--ee52d8d5-649b-45a8-98bc-68589c1956e1-0', 'tool_calls': [], 'invalid_tool_calls': [], 'usage_metadata': {'input_tokens': 416, 'output_tokens': 58, 'total_tokens': 474}}]}\n",
      "\n",
      "\n",
      "\n",
      "Receiving new event of type: values...\n",
      "{'messages': [{'content': \"Estimate John Mayer's monthly streaming revenue with 50 million monthly streams at $0.004 per stream\", 'additional_kwargs': {}, 'response_metadata': {}, 'type': 'human', 'name': None, 'id': '1916ddda-a464-444e-8130-685750f5f1f5'}, {'content': '', 'additional_kwargs': {'tool_calls': [{'id': 'xuuQMDg0S', 'function': {'name': 'multiply', 'arguments': '{\"a\": 50000000, \"b\": 0.004}'}, 'index': 0}]}, 'response_metadata': {'token_usage': {'prompt_tokens': 314, 'total_tokens': 342, 'completion_tokens': 28}, 'model_name': 'mistral-large-latest', 'model': 'mistral-large-latest', 'finish_reason': 'tool_calls', 'model_provider': 'mistralai'}, 'type': 'ai', 'name': None, 'id': 'lc_run--9ad6848d-194e-4eaf-8624-73fbd7b01f58-0', 'tool_calls': [{'name': 'multiply', 'args': {'a': 50000000, 'b': 0.004}, 'id': 'xuuQMDg0S', 'type': 'tool_call'}], 'invalid_tool_calls': [], 'usage_metadata': {'input_tokens': 314, 'output_tokens': 28, 'total_tokens': 342}}, {'content': 'Error: 1 validation error for multiply\\nb\\n  Input should be a valid integer, got a number with a fractional part [type=int_from_float, input_value=0.004, input_type=float]\\n    For further information visit https://errors.pydantic.dev/2.12/v/int_from_float\\n Please fix your mistakes.', 'additional_kwargs': {}, 'response_metadata': {}, 'type': 'tool', 'name': 'multiply', 'id': 'c8da565f-5f78-481e-ad5e-48eb214a180d', 'tool_call_id': 'xuuQMDg0S', 'artifact': None, 'status': 'error'}, {'content': \"John Mayer's estimated monthly streaming revenue with 50 million streams at **$0.004 per stream** is:\\n\\n**50,000,000 × $0.004 = $200,000** per month.\", 'additional_kwargs': {}, 'response_metadata': {'token_usage': {'prompt_tokens': 416, 'total_tokens': 474, 'completion_tokens': 58}, 'model_name': 'mistral-large-latest', 'model': 'mistral-large-latest', 'finish_reason': 'stop', 'model_provider': 'mistralai'}, 'type': 'ai', 'name': None, 'id': 'lc_run--ee52d8d5-649b-45a8-98bc-68589c1956e1-0', 'tool_calls': [], 'invalid_tool_calls': [], 'usage_metadata': {'input_tokens': 416, 'output_tokens': 58, 'total_tokens': 474}}]}\n",
      "\n",
      "\n",
      "\n"
     ]
    }
   ],
   "source": [
    "async for chunk in client.runs.stream(\n",
    "    thread[\"thread_id\"],\n",
    "    assistant_id=\"agent\",\n",
    "    input=None,\n",
    "    stream_mode=\"values\",\n",
    "    checkpoint_id=to_replay['checkpoint_id']\n",
    "):      \n",
    "    print(f\"Receiving new event of type: {chunk.event}...\")\n",
    "    print(chunk.data)\n",
    "    print(\"\\n\\n\")"
   ]
  },
  {
   "cell_type": "markdown",
   "id": "14c153b3",
   "metadata": {},
   "source": [
    "We can all view this as streaming only `updates` to state made by the nodes that we reply."
   ]
  },
  {
   "cell_type": "code",
   "execution_count": 37,
   "id": "9e608e93",
   "metadata": {},
   "outputs": [],
   "source": [
    "async for chunk in client.runs.stream(\n",
    "    thread[\"thread_id\"],\n",
    "    assistant_id=\"agent\",\n",
    "    input=None,\n",
    "    stream_mode=\"updates\",\n",
    "    checkpoint_id=to_replay['checkpoint_id']\n",
    "):\n",
    "    if chunk.data:\n",
    "        assisant_node = chunk.data.get('assistant', {}).get('messages', [])\n",
    "        tool_node = chunk.data.get('tools', {}).get('messages', [])\n",
    "        if assisant_node:\n",
    "            print(\"-\" * 20+\"Assistant Node\"+\"-\" * 20)\n",
    "            print(assisant_node[-1])\n",
    "        elif tool_node:\n",
    "            print(\"-\" * 20+\"Tools Node\"+\"-\" * 20)\n",
    "            print(tool_node[-1])"
   ]
  },
  {
   "cell_type": "markdown",
   "id": "8e66e0e8",
   "metadata": {},
   "source": [
    "#### Forking\n",
    "\n",
    "Now, let's look at forking.\n",
    "\n",
    "Let's get the same step as we worked with above, the human input.\n",
    "\n",
    "Let's create a new thread with our agent."
   ]
  },
  {
   "cell_type": "code",
   "execution_count": 38,
   "id": "01af5ed4",
   "metadata": {},
   "outputs": [
    {
     "name": "stdout",
     "output_type": "stream",
     "text": [
      "--------------------Assistant Node--------------------\n",
      "{'content': '', 'additional_kwargs': {'tool_calls': [{'id': 'NkdR1E8Ev', 'function': {'name': 'add', 'arguments': '{\"a\": 7, \"b\": 12}'}, 'index': 0}]}, 'response_metadata': {'token_usage': {'prompt_tokens': 309, 'total_tokens': 326, 'completion_tokens': 17}, 'model_name': 'mistral-large-latest', 'model': 'mistral-large-latest', 'finish_reason': 'tool_calls', 'model_provider': 'mistralai'}, 'type': 'ai', 'name': None, 'id': 'lc_run--78e2bd9e-41b8-4d94-86b8-9b4ff9b0a02a-0', 'tool_calls': [{'name': 'add', 'args': {'a': 7, 'b': 12}, 'id': 'NkdR1E8Ev', 'type': 'tool_call'}], 'invalid_tool_calls': [], 'usage_metadata': {'input_tokens': 309, 'output_tokens': 17, 'total_tokens': 326}}\n",
      "--------------------Tools Node--------------------\n",
      "{'content': '19', 'additional_kwargs': {}, 'response_metadata': {}, 'type': 'tool', 'name': 'add', 'id': 'b3af9045-2b89-4ef0-88df-0b5b4d67d07d', 'tool_call_id': 'NkdR1E8Ev', 'artifact': None, 'status': 'success'}\n",
      "--------------------Assistant Node--------------------\n",
      "{'content': 'John Mayer has a total of **19 major music awards** (7 Grammy wins + 12 other major awards).', 'additional_kwargs': {}, 'response_metadata': {'token_usage': {'prompt_tokens': 330, 'total_tokens': 356, 'completion_tokens': 26}, 'model_name': 'mistral-large-latest', 'model': 'mistral-large-latest', 'finish_reason': 'stop', 'model_provider': 'mistralai'}, 'type': 'ai', 'name': None, 'id': 'lc_run--e06af8d3-85a0-4fbb-8959-b0731f557a25-0', 'tool_calls': [], 'invalid_tool_calls': [], 'usage_metadata': {'input_tokens': 330, 'output_tokens': 26, 'total_tokens': 356}}\n",
      "--------------------Assistant Node--------------------\n",
      "{'content': 'John Mayer has a total of **19 major music awards** (7 Grammy wins + 12 other major awards).', 'additional_kwargs': {}, 'response_metadata': {'token_usage': {'prompt_tokens': 330, 'total_tokens': 356, 'completion_tokens': 26}, 'model_name': 'mistral-large-latest', 'model': 'mistral-large-latest', 'finish_reason': 'stop', 'model_provider': 'mistralai'}, 'type': 'ai', 'name': None, 'id': 'lc_run--e06af8d3-85a0-4fbb-8959-b0731f557a25-0', 'tool_calls': [], 'invalid_tool_calls': [], 'usage_metadata': {'input_tokens': 330, 'output_tokens': 26, 'total_tokens': 356}}\n"
     ]
    }
   ],
   "source": [
    "initial_input = {\"messages\": HumanMessage(content=\"Calculate John Mayer's total awards: 7 Grammy wins and 12 other major music awards\")}\n",
    "thread = await client.threads.create()\n",
    "async for chunk in client.runs.stream(\n",
    "    thread[\"thread_id\"],\n",
    "    assistant_id=\"agent\",\n",
    "    input=initial_input,\n",
    "    stream_mode=\"updates\",\n",
    "):\n",
    "    if chunk.data:\n",
    "        assisant_node = chunk.data.get('assistant', {}).get('messages', [])\n",
    "        tool_node = chunk.data.get('tools', {}).get('messages', [])\n",
    "        if assisant_node:\n",
    "            print(\"-\" * 20+\"Assistant Node\"+\"-\" * 20)\n",
    "            print(assisant_node[-1])\n",
    "        elif tool_node:\n",
    "            print(\"-\" * 20+\"Tools Node\"+\"-\" * 20)\n",
    "            print(tool_node[-1])"
   ]
  },
  {
   "cell_type": "code",
   "execution_count": 39,
   "id": "3dbc8795-c3f5-4559-a00e-dc410c0a927f",
   "metadata": {},
   "outputs": [
    {
     "data": {
      "text/plain": [
       "{'messages': [{'content': \"Calculate John Mayer's total awards: 7 Grammy wins and 12 other major music awards\",\n",
       "   'additional_kwargs': {},\n",
       "   'response_metadata': {},\n",
       "   'type': 'human',\n",
       "   'name': None,\n",
       "   'id': 'f4917a65-abf9-460f-9911-0ed6e8d8a42f'}]}"
      ]
     },
     "execution_count": 39,
     "metadata": {},
     "output_type": "execute_result"
    }
   ],
   "source": [
    "states = await client.threads.get_history(thread['thread_id'])\n",
    "to_fork = states[-2]\n",
    "to_fork['values']"
   ]
  },
  {
   "cell_type": "code",
   "execution_count": 40,
   "id": "11e6cde1-0388-43ea-b994-1c4e9ca1199b",
   "metadata": {},
   "outputs": [
    {
     "data": {
      "text/plain": [
       "'f4917a65-abf9-460f-9911-0ed6e8d8a42f'"
      ]
     },
     "execution_count": 40,
     "metadata": {},
     "output_type": "execute_result"
    }
   ],
   "source": [
    "to_fork['values']['messages'][0]['id']"
   ]
  },
  {
   "cell_type": "code",
   "execution_count": 41,
   "id": "0c1e2300-c8b2-4994-a96d-1be19c04b6a8",
   "metadata": {},
   "outputs": [
    {
     "data": {
      "text/plain": [
       "['assistant']"
      ]
     },
     "execution_count": 41,
     "metadata": {},
     "output_type": "execute_result"
    }
   ],
   "source": [
    "to_fork['next']"
   ]
  },
  {
   "cell_type": "code",
   "execution_count": 42,
   "id": "9d31d5aa-524f-42f4-ba7e-713a029610d6",
   "metadata": {},
   "outputs": [
    {
     "data": {
      "text/plain": [
       "'1f0b3520-3514-6a7a-8000-9786508e075d'"
      ]
     },
     "execution_count": 42,
     "metadata": {},
     "output_type": "execute_result"
    }
   ],
   "source": [
    "to_fork['checkpoint_id']"
   ]
  },
  {
   "cell_type": "markdown",
   "id": "8f11e1d9-9fe7-4243-a06f-9b07e38a12ad",
   "metadata": {},
   "source": [
    "Let's edit the state.\n",
    "\n",
    "Remember how our reducer on `messages` works: \n",
    "\n",
    "* It will append, unless we supply a message ID.\n",
    "* We supply the message ID to overwrite the message, rather than appending to state!"
   ]
  },
  {
   "cell_type": "code",
   "execution_count": 43,
   "id": "0198f1b8-2f57-4c6e-ac6a-c6fb80cce0bd",
   "metadata": {},
   "outputs": [],
   "source": [
    "forked_input = {\"messages\": HumanMessage(content=\"Count John Mayer's chart success: 10 top 10 hits and 18 top 40 hits\",\n",
    "                                         id=to_fork['values']['messages'][0]['id'])}\n",
    "\n",
    "forked_config = await client.threads.update_state(\n",
    "    thread[\"thread_id\"],\n",
    "    forked_input,\n",
    "    checkpoint_id=to_fork['checkpoint_id']\n",
    ")"
   ]
  },
  {
   "cell_type": "code",
   "execution_count": 44,
   "id": "1dcd5b8e-6bb1-4967-84cf-4af710b8bf46",
   "metadata": {},
   "outputs": [
    {
     "data": {
      "text/plain": [
       "{'checkpoint': {'thread_id': '2c128bdc-1d37-4d48-a997-04dce2d07b97',\n",
       "  'checkpoint_ns': '',\n",
       "  'checkpoint_id': '1f0b3520-41e4-6fba-8001-1d341710a50f'},\n",
       " 'configurable': {'thread_id': '2c128bdc-1d37-4d48-a997-04dce2d07b97',\n",
       "  'checkpoint_ns': '',\n",
       "  'checkpoint_id': '1f0b3520-41e4-6fba-8001-1d341710a50f'},\n",
       " 'checkpoint_id': '1f0b3520-41e4-6fba-8001-1d341710a50f'}"
      ]
     },
     "execution_count": 44,
     "metadata": {},
     "output_type": "execute_result"
    }
   ],
   "source": [
    "forked_config"
   ]
  },
  {
   "cell_type": "code",
   "execution_count": 45,
   "id": "015ac68a-5cc1-4c42-90a2-5b2b4865a153",
   "metadata": {},
   "outputs": [
    {
     "data": {
      "text/plain": [
       "{'values': {'messages': [{'content': \"Count John Mayer's chart success: 10 top 10 hits and 18 top 40 hits\",\n",
       "    'additional_kwargs': {},\n",
       "    'response_metadata': {},\n",
       "    'type': 'human',\n",
       "    'name': None,\n",
       "    'id': 'f4917a65-abf9-460f-9911-0ed6e8d8a42f'},\n",
       "   {'content': '',\n",
       "    'additional_kwargs': {'tool_calls': [{'id': 'NkdR1E8Ev',\n",
       "       'function': {'name': 'add', 'arguments': '{\"a\": 7, \"b\": 12}'},\n",
       "       'index': 0}]},\n",
       "    'response_metadata': {'token_usage': {'prompt_tokens': 309,\n",
       "      'total_tokens': 326,\n",
       "      'completion_tokens': 17},\n",
       "     'model_name': 'mistral-large-latest',\n",
       "     'model': 'mistral-large-latest',\n",
       "     'finish_reason': 'tool_calls',\n",
       "     'model_provider': 'mistralai'},\n",
       "    'type': 'ai',\n",
       "    'name': None,\n",
       "    'id': 'lc_run--78e2bd9e-41b8-4d94-86b8-9b4ff9b0a02a-0',\n",
       "    'tool_calls': [{'name': 'add',\n",
       "      'args': {'a': 7, 'b': 12},\n",
       "      'id': 'NkdR1E8Ev',\n",
       "      'type': 'tool_call'}],\n",
       "    'invalid_tool_calls': [],\n",
       "    'usage_metadata': {'input_tokens': 309,\n",
       "     'output_tokens': 17,\n",
       "     'total_tokens': 326}}]},\n",
       " 'next': ['tools'],\n",
       " 'tasks': [{'id': '4a2b8894-3e77-9b53-60c1-13c5c2305de1',\n",
       "   'name': 'tools',\n",
       "   'path': ['__pregel_pull', 'tools'],\n",
       "   'error': None,\n",
       "   'interrupts': [],\n",
       "   'checkpoint': None,\n",
       "   'state': None,\n",
       "   'result': None}],\n",
       " 'metadata': {'graph_id': 'agent',\n",
       "  'thread_id': '2c128bdc-1d37-4d48-a997-04dce2d07b97',\n",
       "  'checkpoint_id': '1f0b3520-3514-6a7a-8000-9786508e075d',\n",
       "  'checkpoint_ns': '',\n",
       "  'source': 'update',\n",
       "  'step': 1,\n",
       "  'parents': {}},\n",
       " 'created_at': '2025-10-27T16:28:48.627073+00:00',\n",
       " 'checkpoint': {'checkpoint_id': '1f0b3520-41e4-6fba-8001-1d341710a50f',\n",
       "  'thread_id': '2c128bdc-1d37-4d48-a997-04dce2d07b97',\n",
       "  'checkpoint_ns': ''},\n",
       " 'parent_checkpoint': {'checkpoint_id': '1f0b3520-3514-6a7a-8000-9786508e075d',\n",
       "  'thread_id': '2c128bdc-1d37-4d48-a997-04dce2d07b97',\n",
       "  'checkpoint_ns': ''},\n",
       " 'interrupts': [],\n",
       " 'checkpoint_id': '1f0b3520-41e4-6fba-8001-1d341710a50f',\n",
       " 'parent_checkpoint_id': '1f0b3520-3514-6a7a-8000-9786508e075d'}"
      ]
     },
     "execution_count": 45,
     "metadata": {},
     "output_type": "execute_result"
    }
   ],
   "source": [
    "states = await client.threads.get_history(thread['thread_id'])\n",
    "states[0]"
   ]
  },
  {
   "cell_type": "markdown",
   "id": "3de80029-b987-49c5-890d-6cd70cbc8de7",
   "metadata": {},
   "source": [
    "To rerun, we pass in the `checkpoint_id`."
   ]
  },
  {
   "cell_type": "code",
   "execution_count": 46,
   "id": "da005240-d3f0-4c89-9aca-dfcb5d410ceb",
   "metadata": {},
   "outputs": [
    {
     "name": "stdout",
     "output_type": "stream",
     "text": [
      "--------------------Tools Node--------------------\n",
      "{'content': '19', 'additional_kwargs': {}, 'response_metadata': {}, 'type': 'tool', 'name': 'add', 'id': '6b4965b6-a747-43e4-b87f-b33a4ad7ba0e', 'tool_call_id': 'NkdR1E8Ev', 'artifact': None, 'status': 'success'}\n",
      "--------------------Assistant Node--------------------\n",
      "{'content': 'John Mayer has had a total of **28** songs chart within the **Top 40** (10 in the Top 10 and 18 in the Top 40).\\n\\n*(Note: Since the original request included overlapping counts, I adjusted the calculation to avoid double-counting the Top 10 hits within the Top 40.)*', 'additional_kwargs': {}, 'response_metadata': {'token_usage': {'prompt_tokens': 335, 'total_tokens': 411, 'completion_tokens': 76}, 'model_name': 'mistral-large-latest', 'model': 'mistral-large-latest', 'finish_reason': 'stop', 'model_provider': 'mistralai'}, 'type': 'ai', 'name': None, 'id': 'lc_run--81015bf4-3a7a-4cb0-ad55-30695396e0ad-0', 'tool_calls': [], 'invalid_tool_calls': [], 'usage_metadata': {'input_tokens': 335, 'output_tokens': 76, 'total_tokens': 411}}\n",
      "--------------------Assistant Node--------------------\n",
      "{'content': 'John Mayer has had a total of **28** songs chart within the **Top 40** (10 in the Top 10 and 18 in the Top 40).\\n\\n*(Note: Since the original request included overlapping counts, I adjusted the calculation to avoid double-counting the Top 10 hits within the Top 40.)*', 'additional_kwargs': {}, 'response_metadata': {'token_usage': {'prompt_tokens': 335, 'total_tokens': 411, 'completion_tokens': 76}, 'model_name': 'mistral-large-latest', 'model': 'mistral-large-latest', 'finish_reason': 'stop', 'model_provider': 'mistralai'}, 'type': 'ai', 'name': None, 'id': 'lc_run--81015bf4-3a7a-4cb0-ad55-30695396e0ad-0', 'tool_calls': [], 'invalid_tool_calls': [], 'usage_metadata': {'input_tokens': 335, 'output_tokens': 76, 'total_tokens': 411}}\n"
     ]
    }
   ],
   "source": [
    "async for chunk in client.runs.stream(\n",
    "    thread[\"thread_id\"],\n",
    "    assistant_id=\"agent\",\n",
    "    input=None,\n",
    "    stream_mode=\"updates\",\n",
    "    checkpoint_id=forked_config['checkpoint_id']\n",
    "):\n",
    "    if chunk.data:\n",
    "        assisant_node = chunk.data.get('assistant', {}).get('messages', [])\n",
    "        tool_node = chunk.data.get('tools', {}).get('messages', [])\n",
    "        if assisant_node:\n",
    "            print(\"-\" * 20+\"Assistant Node\"+\"-\" * 20)\n",
    "            print(assisant_node[-1])\n",
    "        elif tool_node:\n",
    "            print(\"-\" * 20+\"Tools Node\"+\"-\" * 20)\n",
    "            print(tool_node[-1])"
   ]
  },
  {
   "cell_type": "markdown",
   "id": "36956571-a2b8-4f1b-8e30-51f02f155a6f",
   "metadata": {},
   "source": [
    "### LangGraph Studio\n",
    "\n",
    "Let's look at forking in the Studio UI with our `agent`, which uses `module-1/studio/agent.py` set in `module-1/studio/langgraph.json`."
   ]
  }
 ],
 "metadata": {
  "kernelspec": {
   "display_name": "sumedhapaliwal_langgraph_mat496",
   "language": "python",
   "name": "python3"
  },
  "language_info": {
   "codemirror_mode": {
    "name": "ipython",
    "version": 3
   },
   "file_extension": ".py",
   "mimetype": "text/x-python",
   "name": "python",
   "nbconvert_exporter": "python",
   "pygments_lexer": "ipython3",
   "version": "3.13.3"
  }
 },
 "nbformat": 4,
 "nbformat_minor": 5
}
