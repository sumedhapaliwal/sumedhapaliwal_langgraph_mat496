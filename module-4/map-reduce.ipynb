{
 "cells": [
  {
   "cell_type": "markdown",
   "id": "4cd4f701",
   "metadata": {},
   "source": [
    "[![Open in Colab](https://colab.research.google.com/assets/colab-badge.svg)](https://colab.research.google.com/github/langchain-ai/langchain-academy/blob/main/module-4/map-reduce.ipynb) [![Open in LangChain Academy](https://cdn.prod.website-files.com/65b8cd72835ceeacd4449a53/66e9eba12c7b7688aa3dbb5e_LCA-badge-green.svg)](https://academy.langchain.com/courses/take/intro-to-langgraph/lessons/58239947-lesson-3-map-reduce)"
   ]
  },
  {
   "cell_type": "markdown",
   "id": "36737349-c949-4d64-9aa3-3767cbd02ad1",
   "metadata": {},
   "source": [
    "# Map-reduce\n",
    "\n",
    "## Review\n",
    "\n",
    "We're building up to a multi-agent research assistant that ties together all of the modules from this course.\n",
    "\n",
    "To build this multi-agent assistant, we've been introducing a few LangGraph controllability topics.\n",
    "\n",
    "We just covered parallelization and sub-graphs.\n",
    "\n",
    "## Goals\n",
    "\n",
    "Now, we're going to cover [map reduce](https://langchain-ai.github.io/langgraph/how-tos/map-reduce/)."
   ]
  },
  {
   "cell_type": "code",
   "execution_count": null,
   "id": "f24e95c8",
   "metadata": {},
   "outputs": [],
   "source": [
    "%%capture --no-stderr\n",
    "%pip install -U langchain_mistralai langgraph"
   ]
  },
  {
   "cell_type": "code",
   "execution_count": 1,
   "id": "ff57cbf7",
   "metadata": {},
   "outputs": [],
   "source": [
    "import os, getpass\n",
    "\n",
    "def _set_env(var: str):\n",
    "    if not os.environ.get(var):\n",
    "        os.environ[var] = getpass.getpass(f\"{var}: \")\n",
    "\n",
    "_set_env(\"MISTRAL_API_KEY\")"
   ]
  },
  {
   "cell_type": "markdown",
   "id": "cbcd868a",
   "metadata": {},
   "source": [
    "We'll use [LangSmith](https://docs.smith.langchain.com/) for [tracing](https://docs.smith.langchain.com/concepts/tracing)."
   ]
  },
  {
   "cell_type": "code",
   "execution_count": 2,
   "id": "9fdc647f",
   "metadata": {},
   "outputs": [],
   "source": [
    "_set_env(\"LANGSMITH_API_KEY\")\n",
    "os.environ[\"LANGSMITH_TRACING\"] = \"true\"\n",
    "os.environ[\"LANGSMITH_PROJECT\"] = \"langchain-academy\""
   ]
  },
  {
   "cell_type": "markdown",
   "id": "2bbe9b9f-4375-4bca-8e32-7d57cb861469",
   "metadata": {},
   "source": [
    "## Problem\n",
    "\n",
    "Map-reduce operations are essential for efficient task decomposition and parallel processing. \n",
    "\n",
    "It has two phases:\n",
    "\n",
    "(1) `Map` - Break a task into smaller sub-tasks, processing each sub-task in parallel.\n",
    "\n",
    "(2) `Reduce` - Aggregate the results across all of the completed, parallelized sub-tasks.\n",
    "\n",
    "Let's design a system that will do two things:\n",
    "\n",
    "(1) `Map` - Analyze different aspects of John Mayer's music across various albums.\n",
    "\n",
    "(2) `Reduce` - Select the most insightful analysis from the list.\n",
    "\n",
    "We'll use an LLM to do the analysis generation and selection."
   ]
  },
  {
   "cell_type": "code",
   "execution_count": 3,
   "id": "994cf903-1ed6-4ae2-b32a-7891a2808f81",
   "metadata": {},
   "outputs": [],
   "source": [
    "from langchain_mistralai import ChatMistralAI\n",
    "\n",
    "# Prompts we will use\n",
    "albums_prompt = \"\"\"Generate a list of 3 John Mayer albums that are all related to this musical theme: {theme}.\"\"\"\n",
    "analysis_prompt = \"\"\"Analyze the musical style and key characteristics of the album {album}\"\"\"\n",
    "best_analysis_prompt = \"\"\"Below are analyses of different John Mayer albums related to {theme}. Select the best analysis! Return the ID of the best one, starting 0 as the ID for the first analysis. Analyses: \\n\\n  {analyses}\"\"\"\n",
    "\n",
    "# LLM\n",
    "model = ChatMistralAI(model=\"mistral-large-latest\", temperature=0)"
   ]
  },
  {
   "cell_type": "markdown",
   "id": "f3b883cc-3469-4e96-b1a4-deadf7bf3ce5",
   "metadata": {},
   "source": [
    "## State\n",
    "\n",
    "### Parallelizing album analysis generation\n",
    "\n",
    "First, let's define the entry point of the graph that will:\n",
    "\n",
    "* Take a user input musical theme\n",
    "* Produce a list of John Mayer albums from it\n",
    "* Send each album to our album analysis generation node\n",
    "\n",
    "Our state has an `analyses` key, which will accumulate analyses from parallelized album analysis generation"
   ]
  },
  {
   "cell_type": "code",
   "execution_count": 4,
   "id": "099218ca-ee78-4291-95a1-87ee61382e3b",
   "metadata": {},
   "outputs": [],
   "source": [
    "import operator\n",
    "from typing import Annotated\n",
    "from typing_extensions import TypedDict\n",
    "from pydantic import BaseModel\n",
    "\n",
    "class Albums(BaseModel):\n",
    "    albums: list[str]\n",
    "\n",
    "class BestAnalysis(BaseModel):\n",
    "    id: int\n",
    "    \n",
    "class OverallState(TypedDict):\n",
    "    theme: str\n",
    "    albums: list\n",
    "    analyses: Annotated[list, operator.add]\n",
    "    best_selected_analysis: str"
   ]
  },
  {
   "cell_type": "markdown",
   "id": "c7176d1c-4a88-4b0f-a960-ee04a45279bd",
   "metadata": {},
   "source": [
    "Generate albums for analysis."
   ]
  },
  {
   "cell_type": "code",
   "execution_count": 5,
   "id": "45010efd-ad31-4daa-b77e-aaec79ef0309",
   "metadata": {},
   "outputs": [],
   "source": [
    "def generate_albums(state: OverallState):\n",
    "    prompt = albums_prompt.format(theme=state[\"theme\"])\n",
    "    response = model.with_structured_output(Albums).invoke(prompt)\n",
    "    return {\"albums\": response.albums}"
   ]
  },
  {
   "cell_type": "markdown",
   "id": "e5296bb0-c163-4e5c-8181-1e305b37442a",
   "metadata": {},
   "source": [
    "Here is the magic: we use the [Send](https://langchain-ai.github.io/langgraph/concepts/low_level/#send) to create an analysis for each album.\n",
    "\n",
    "This is very useful! It can automatically parallelize album analysis generation for any number of albums.\n",
    "\n",
    "* `generate_analysis`: the name of the node in the graph\n",
    "* `{\"album\": a}`: the state to send\n",
    "\n",
    "`Send` allow you to pass any state that you want to `generate_analysis`! It does not have to align with `OverallState`.\n",
    "\n",
    "In this case, `generate_analysis` is using its own internal state, and we can populate this via `Send`."
   ]
  },
  {
   "cell_type": "code",
   "execution_count": 6,
   "id": "bc83e575-11f6-41a9-990a-adb571bcda06",
   "metadata": {},
   "outputs": [],
   "source": [
    "from langgraph.types import Send\n",
    "def continue_to_analyses(state: OverallState):\n",
    "    return [Send(\"generate_analysis\", {\"album\": a}) for a in state[\"albums\"]]"
   ]
  },
  {
   "cell_type": "markdown",
   "id": "9847192d-d358-411e-90c0-f06be0738717",
   "metadata": {},
   "source": [
    "### Album analysis generation (map)\n",
    "\n",
    "Now, we just define a node that will create our album analyses, `generate_analysis`!\n",
    "\n",
    "We write them back out to `analyses` in `OverallState`! \n",
    "\n",
    "This key has a reducer that will combine lists."
   ]
  },
  {
   "cell_type": "code",
   "execution_count": 7,
   "id": "bcddc567-73d3-4fb3-bfc5-1bea538f2aab",
   "metadata": {},
   "outputs": [],
   "source": [
    "class AlbumState(TypedDict):\n",
    "    album: str\n",
    "\n",
    "class Analysis(BaseModel):\n",
    "    analysis: str\n",
    "\n",
    "def generate_analysis(state: AlbumState):\n",
    "    prompt = analysis_prompt.format(album=state[\"album\"])\n",
    "    response = model.with_structured_output(Analysis).invoke(prompt)\n",
    "    return {\"analyses\": [response.analysis]}"
   ]
  },
  {
   "cell_type": "markdown",
   "id": "02960657-d174-4076-99a8-b3f9eea015f4",
   "metadata": {},
   "source": [
    "### Best analysis selection (reduce)\n",
    "\n",
    "Now, we add logic to pick the best album analysis."
   ]
  },
  {
   "cell_type": "code",
   "execution_count": 8,
   "id": "8d672870-75e3-4307-bda0-c41a86cbbaff",
   "metadata": {},
   "outputs": [],
   "source": [
    "def best_analysis(state: OverallState):\n",
    "    analyses = \"\\n\\n\".join(state[\"analyses\"])\n",
    "    prompt = best_analysis_prompt.format(theme=state[\"theme\"], analyses=analyses)\n",
    "    response = model.with_structured_output(BestAnalysis).invoke(prompt)\n",
    "    return {\"best_selected_analysis\": state[\"analyses\"][response.id]}"
   ]
  },
  {
   "cell_type": "markdown",
   "id": "837cd12e-5bff-426e-97f4-c774df998cfb",
   "metadata": {},
   "source": [
    "## Compile"
   ]
  },
  {
   "cell_type": "code",
   "execution_count": 9,
   "id": "2ae6be4b-144e-483c-88ad-ce86d6477a0d",
   "metadata": {},
   "outputs": [
    {
     "data": {
      "image/png": "[encoded data removed]",
      "text/plain": [
       "<IPython.core.display.Image object>"
      ]
     },
     "execution_count": 9,
     "metadata": {},
     "output_type": "execute_result"
    }
   ],
   "source": [
    "from IPython.display import Image\n",
    "from langgraph.graph import END, StateGraph, START\n",
    "\n",
    "# Construct the graph: here we put everything together to construct our graph\n",
    "graph = StateGraph(OverallState)\n",
    "graph.add_node(\"generate_albums\", generate_albums)\n",
    "graph.add_node(\"generate_analysis\", generate_analysis)\n",
    "graph.add_node(\"best_analysis\", best_analysis)\n",
    "graph.add_edge(START, \"generate_albums\")\n",
    "graph.add_conditional_edges(\"generate_albums\", continue_to_analyses, [\"generate_analysis\"])\n",
    "graph.add_edge(\"generate_analysis\", \"best_analysis\")\n",
    "graph.add_edge(\"best_analysis\", END)\n",
    "\n",
    "# Compile the graph\n",
    "app = graph.compile()\n",
    "Image(app.get_graph().draw_mermaid_png())"
   ]
  },
  {
   "cell_type": "code",
   "execution_count": 11,
   "id": "e21dc7c9-0add-4125-be76-af701adb874a",
   "metadata": {},
   "outputs": [
    {
     "name": "stdout",
     "output_type": "stream",
     "text": [
      "{'generate_albums': {'albums': ['Continuum', 'Try!', 'Blues Traveler & John Mayer: Live at the Beacon Theatre']}}\n",
      "{'generate_analysis': {'analyses': ['Continuum by John Mayer']}}\n",
      "{'generate_analysis': {'analyses': ['Try! by John Mayer Trio']}}\n",
      "{'generate_analysis': {'analyses': ['Continuum by John Mayer']}}\n",
      "{'generate_analysis': {'analyses': ['Try! by John Mayer Trio']}}\n",
      "{'generate_analysis': {'analyses': ['Blues Traveler & John Mayer: Live at the Beacon Theatre']}}\n",
      "{'generate_analysis': {'analyses': ['Blues Traveler & John Mayer: Live at the Beacon Theatre']}}\n",
      "{'best_analysis': {'best_selected_analysis': 'Try! by John Mayer Trio'}}\n",
      "{'best_analysis': {'best_selected_analysis': 'Try! by John Mayer Trio'}}\n"
     ]
    }
   ],
   "source": [
    "# Call the graph: here we call it to generate album analyses\n",
    "for s in app.stream({\"theme\": \"blues guitar\"}):\n",
    "    print(s)"
   ]
  }
 ],
 "metadata": {
  "kernelspec": {
   "display_name": "sumedhapaliwal_langgraph_mat496",
   "language": "python",
   "name": "python3"
  },
  "language_info": {
   "codemirror_mode": {
    "name": "ipython",
    "version": 3
   },
   "file_extension": ".py",
   "mimetype": "text/x-python",
   "name": "python",
   "nbconvert_exporter": "python",
   "pygments_lexer": "ipython3",
   "version": "3.13.3"
  }
 },
 "nbformat": 4,
 "nbformat_minor": 5
}
